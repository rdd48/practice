{
 "cells": [
  {
   "cell_type": "code",
   "execution_count": 17,
   "metadata": {},
   "outputs": [
    {
     "name": "stdout",
     "output_type": "stream",
     "text": [
      "WARNING:tensorflow:From /Users/robbydivine/anaconda3/envs/dl/lib/python3.9/site-packages/tensorflow/python/compat/v2_compat.py:96: disable_resource_variables (from tensorflow.python.ops.variable_scope) is deprecated and will be removed in a future version.\n",
      "Instructions for updating:\n",
      "non-resource variables are not supported in the long term\n"
     ]
    }
   ],
   "source": [
    "import numpy as np\n",
    "import matplotlib.pyplot as plt\n",
    "import tensorflow.compat.v1 as tf\n",
    "tf.disable_v2_behavior()"
   ]
  },
  {
   "cell_type": "code",
   "execution_count": 18,
   "metadata": {},
   "outputs": [],
   "source": [
    "data = np.loadtxt('../large_files/train.csv', delimiter=',', skiprows=1, dtype=int)\n",
    "\n",
    "def set_up_data(d):\n",
    "    # shuffle the data\n",
    "    np.random.shuffle(d)\n",
    "\n",
    "    # split into X and Y (labels are first column)\n",
    "    X = d[:, 1:]\n",
    "    Y = d[:, 0]\n",
    "\n",
    "    # split into train/test\n",
    "    r, c = np.shape(d)\n",
    "    r_90 = r // 90\n",
    "    X_train, X_test = X[:-r_90], X[-r_90:]\n",
    "    Y_train, Y_test = Y[:-r_90], Y[-r_90:]\n",
    "\n",
    "    # normalize.\n",
    "    # takes mean/std for each col (??)\n",
    "    mu = X_train.mean(axis=0)\n",
    "    std = X_train.std(axis=0)\n",
    "    \n",
    "    # for all-black images (std == 0), change std to 1 to prevent /0 errors\n",
    "    idx = np.where(std == 0)[0]\n",
    "    assert(np.all(std[idx]) == 0)\n",
    "\n",
    "    np.place(std, std == 0, 1)\n",
    "\n",
    "    X_train = (X_train - mu) / std\n",
    "    X_test = (X_test - mu) / std\n",
    "    \n",
    "    return X_train, X_test, Y_train, Y_test\n",
    "\n",
    "def onehot_encode(y):\n",
    "    N = len(y)\n",
    "    min_y, max_y = np.min(y), np.max(y)\n",
    "    K = (max_y - min_y) + 1\n",
    "\n",
    "    encoded_y = np.zeros((N, K))\n",
    "\n",
    "    for i in range(N):\n",
    "        col_val = y[i]\n",
    "        encoded_y[i, col_val] = 1\n",
    "    \n",
    "    return encoded_y\n",
    "\n",
    "def error_rate(p, t):\n",
    "    return np.mean(p != t)"
   ]
  },
  {
   "cell_type": "code",
   "execution_count": 19,
   "metadata": {},
   "outputs": [
    {
     "name": "stdout",
     "output_type": "stream",
     "text": [
      "WARNING:tensorflow:From /Users/robbydivine/anaconda3/envs/dl/lib/python3.9/site-packages/tensorflow/python/training/rmsprop.py:123: calling Ones.__init__ (from tensorflow.python.ops.init_ops) with dtype is deprecated and will be removed in a future version.\n",
      "Instructions for updating:\n",
      "Call initializer instance with the dtype argument instead of passing it to the constructor\n"
     ]
    },
    {
     "name": "stderr",
     "output_type": "stream",
     "text": [
      "2022-04-30 12:09:25.584473: I tensorflow/compiler/mlir/mlir_graph_optimization_pass.cc:196] None of the MLIR optimization passes are enabled (registered 0 passes)\n"
     ]
    },
    {
     "name": "stdout",
     "output_type": "stream",
     "text": [
      "Cost / err at iteration i=0, j=0: 1121.746 / 0.895\n",
      "Cost / err at iteration i=0, j=50: 181.639 / 0.112\n",
      "Cost / err at iteration i=1, j=0: 144.586 / 0.079\n",
      "Cost / err at iteration i=1, j=50: 114.687 / 0.071\n",
      "Cost / err at iteration i=2, j=0: 98.835 / 0.058\n",
      "Cost / err at iteration i=2, j=50: 82.207 / 0.056\n",
      "Cost / err at iteration i=3, j=0: 72.040 / 0.047\n",
      "Cost / err at iteration i=3, j=50: 66.080 / 0.039\n",
      "Cost / err at iteration i=4, j=0: 58.952 / 0.036\n",
      "Cost / err at iteration i=4, j=50: 55.270 / 0.032\n",
      "Cost / err at iteration i=5, j=0: 50.216 / 0.032\n",
      "Cost / err at iteration i=5, j=50: 48.841 / 0.026\n",
      "Cost / err at iteration i=6, j=0: 45.440 / 0.028\n",
      "Cost / err at iteration i=6, j=50: 44.368 / 0.021\n",
      "Cost / err at iteration i=7, j=0: 42.670 / 0.024\n",
      "Cost / err at iteration i=7, j=50: 41.634 / 0.030\n",
      "Cost / err at iteration i=8, j=0: 40.211 / 0.024\n",
      "Cost / err at iteration i=8, j=50: 40.225 / 0.028\n",
      "Cost / err at iteration i=9, j=0: 38.818 / 0.028\n",
      "Cost / err at iteration i=9, j=50: 39.254 / 0.026\n",
      "Cost / err at iteration i=10, j=0: 37.580 / 0.028\n",
      "Cost / err at iteration i=10, j=50: 38.970 / 0.028\n",
      "Cost / err at iteration i=11, j=0: 37.752 / 0.030\n",
      "Cost / err at iteration i=11, j=50: 38.921 / 0.028\n",
      "Cost / err at iteration i=12, j=0: 36.934 / 0.028\n",
      "Cost / err at iteration i=12, j=50: 39.523 / 0.028\n",
      "Cost / err at iteration i=13, j=0: 38.162 / 0.030\n",
      "Cost / err at iteration i=13, j=50: 40.275 / 0.026\n",
      "Cost / err at iteration i=14, j=0: 38.642 / 0.021\n",
      "Cost / err at iteration i=14, j=50: 42.211 / 0.021\n"
     ]
    },
    {
     "data": {
      "image/png": "[encoded data removed]",
      "text/plain": [
       "<Figure size 432x288 with 1 Axes>"
      ]
     },
     "metadata": {
      "needs_background": "light"
     },
     "output_type": "display_data"
    }
   ],
   "source": [
    "def main():\n",
    "    # step 1: get the data and define all the usual variables\n",
    "    Xtrain, Xtest, Ytrain, Ytest = set_up_data(data)\n",
    "\n",
    "    max_iter = 15\n",
    "    print_period = 50\n",
    "\n",
    "    lr = 0.00004\n",
    "    reg = 0.01\n",
    "\n",
    "    Ytrain_ind = onehot_encode(Ytrain)\n",
    "    Ytest_ind = onehot_encode(Ytest)\n",
    "\n",
    "    N, D = Xtrain.shape\n",
    "    batch_sz = 500\n",
    "    n_batches = N // batch_sz\n",
    "\n",
    "    # add an extra layer just for fun\n",
    "    M1 = 300\n",
    "    M2 = 100\n",
    "    K = 10\n",
    "    W1_init = np.random.randn(D, M1) / np.sqrt(D) # the division step regularizes the data\n",
    "    b1_init = np.zeros(M1)\n",
    "    W2_init = np.random.randn(M1, M2) / np.sqrt(M1)\n",
    "    b2_init = np.zeros(M2)\n",
    "    W3_init = np.random.randn(M2, K) / np.sqrt(M2)\n",
    "    b3_init = np.zeros(K)\n",
    "\n",
    "\n",
    "    # define variables and expressions\n",
    "    X = tf.placeholder(tf.float32, shape=(None, D), name='X')\n",
    "    T = tf.placeholder(tf.float32, shape=(None, K), name='T')\n",
    "    W1 = tf.Variable(W1_init.astype(np.float32))\n",
    "    b1 = tf.Variable(b1_init.astype(np.float32))\n",
    "    W2 = tf.Variable(W2_init.astype(np.float32))\n",
    "    b2 = tf.Variable(b2_init.astype(np.float32))\n",
    "    W3 = tf.Variable(W3_init.astype(np.float32))\n",
    "    b3 = tf.Variable(b3_init.astype(np.float32))\n",
    "\n",
    "    # define the model\n",
    "    Z1 = tf.nn.relu( tf.matmul(X, W1) + b1 )\n",
    "    Z2 = tf.nn.relu( tf.matmul(Z1, W2) + b2 )\n",
    "    Yish = tf.matmul(Z2, W3) + b3 # remember, the cost function does the softmaxing! weird, right?\n",
    "\n",
    "    # softmax_cross_entropy_with_logits take in the \"logits\"\n",
    "    # if you wanted to know the actual output of the neural net,\n",
    "    # you could pass \"Yish\" into tf.nn.softmax(logits)\n",
    "    cost = tf.reduce_sum(tf.nn.softmax_cross_entropy_with_logits_v2(logits=Yish, labels=T))\n",
    "\n",
    "    # we choose the optimizer but don't implement the algorithm ourselves\n",
    "    # let's go with RMSprop, since we just learned about it.\n",
    "    # it includes momentum!\n",
    "    train_op = tf.train.RMSPropOptimizer(lr, decay=0.99, momentum=0.9).minimize(cost)\n",
    "\n",
    "    # we'll use this to calculate the error rate\n",
    "    predict_op = tf.argmax(Yish, 1)\n",
    "\n",
    "    costs = []\n",
    "    init = tf.global_variables_initializer()\n",
    "    with tf.Session() as session:\n",
    "        session.run(init)\n",
    "\n",
    "        for i in range(max_iter):\n",
    "            for j in range(n_batches):\n",
    "                Xbatch = Xtrain[j*batch_sz:(j*batch_sz + batch_sz),]\n",
    "                Ybatch = Ytrain_ind[j*batch_sz:(j*batch_sz + batch_sz),]\n",
    "\n",
    "                session.run(train_op, feed_dict={X: Xbatch, T: Ybatch})\n",
    "                if j % print_period == 0:\n",
    "                    test_cost = session.run(cost, feed_dict={X: Xtest, T: Ytest_ind})\n",
    "                    prediction = session.run(predict_op, feed_dict={X: Xtest})\n",
    "                    err = error_rate(prediction, Ytest)\n",
    "                    print(\"Cost / err at iteration i=%d, j=%d: %.3f / %.3f\" % (i, j, test_cost, err))\n",
    "                    costs.append(test_cost)\n",
    "\n",
    "    plt.plot(costs)\n",
    "    plt.show()\n",
    "    # increase max_iter and notice how the test cost starts to increase.\n",
    "    # are we overfitting by adding that extra layer?\n",
    "    # how would you add regularization to this model?\n",
    "\n",
    "\n",
    "if __name__ == '__main__':\n",
    "    main()"
   ]
  },
  {
   "cell_type": "code",
   "execution_count": null,
   "metadata": {},
   "outputs": [],
   "source": []
  }
 ],
 "metadata": {
  "interpreter": {
   "hash": "b926aed36c516f3967f51fec90ed511fe8a5d480c43eafa224d22d8e046f2ed3"
  },
  "kernelspec": {
   "display_name": "Python 3.9.7 ('dl')",
   "language": "python",
   "name": "python3"
  },
  "language_info": {
   "name": "python",
   "version": "3.9.7"
  },
  "orig_nbformat": 4
 },
 "nbformat": 4,
 "nbformat_minor": 2
}
