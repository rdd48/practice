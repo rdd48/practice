{
 "cells": [
  {
   "cell_type": "code",
   "execution_count": 1,
   "metadata": {},
   "outputs": [],
   "source": [
    "import numpy as np\n",
    "import pandas as pd\n",
    "from sklearn.feature_extraction.text import TfidfVectorizer                       \n",
    "from sklearn.model_selection import train_test_split\n",
    "from sklearn.linear_model import LogisticRegression\n",
    "from scipy.sparse import hstack"
   ]
  },
  {
   "cell_type": "code",
   "execution_count": 2,
   "metadata": {},
   "outputs": [
    {
     "data": {
      "text/html": [
       "<div>\n",
       "<style scoped>\n",
       "    .dataframe tbody tr th:only-of-type {\n",
       "        vertical-align: middle;\n",
       "    }\n",
       "\n",
       "    .dataframe tbody tr th {\n",
       "        vertical-align: top;\n",
       "    }\n",
       "\n",
       "    .dataframe thead th {\n",
       "        text-align: right;\n",
       "    }\n",
       "</style>\n",
       "<table border=\"1\" class=\"dataframe\">\n",
       "  <thead>\n",
       "    <tr style=\"text-align: right;\">\n",
       "      <th></th>\n",
       "      <th>tweet_id</th>\n",
       "      <th>airline_sentiment</th>\n",
       "      <th>airline_sentiment_confidence</th>\n",
       "      <th>negativereason</th>\n",
       "      <th>negativereason_confidence</th>\n",
       "      <th>airline</th>\n",
       "      <th>airline_sentiment_gold</th>\n",
       "      <th>name</th>\n",
       "      <th>negativereason_gold</th>\n",
       "      <th>retweet_count</th>\n",
       "      <th>text</th>\n",
       "      <th>tweet_coord</th>\n",
       "      <th>tweet_created</th>\n",
       "      <th>tweet_location</th>\n",
       "      <th>user_timezone</th>\n",
       "    </tr>\n",
       "  </thead>\n",
       "  <tbody>\n",
       "    <tr>\n",
       "      <th>0</th>\n",
       "      <td>570306133677760513</td>\n",
       "      <td>neutral</td>\n",
       "      <td>1.0000</td>\n",
       "      <td>NaN</td>\n",
       "      <td>NaN</td>\n",
       "      <td>Virgin America</td>\n",
       "      <td>NaN</td>\n",
       "      <td>cairdin</td>\n",
       "      <td>NaN</td>\n",
       "      <td>0</td>\n",
       "      <td>@VirginAmerica What @dhepburn said.</td>\n",
       "      <td>NaN</td>\n",
       "      <td>2015-02-24 11:35:52 -0800</td>\n",
       "      <td>NaN</td>\n",
       "      <td>Eastern Time (US &amp; Canada)</td>\n",
       "    </tr>\n",
       "    <tr>\n",
       "      <th>1</th>\n",
       "      <td>570301130888122368</td>\n",
       "      <td>positive</td>\n",
       "      <td>0.3486</td>\n",
       "      <td>NaN</td>\n",
       "      <td>0.0000</td>\n",
       "      <td>Virgin America</td>\n",
       "      <td>NaN</td>\n",
       "      <td>jnardino</td>\n",
       "      <td>NaN</td>\n",
       "      <td>0</td>\n",
       "      <td>@VirginAmerica plus you've added commercials t...</td>\n",
       "      <td>NaN</td>\n",
       "      <td>2015-02-24 11:15:59 -0800</td>\n",
       "      <td>NaN</td>\n",
       "      <td>Pacific Time (US &amp; Canada)</td>\n",
       "    </tr>\n",
       "    <tr>\n",
       "      <th>2</th>\n",
       "      <td>570301083672813571</td>\n",
       "      <td>neutral</td>\n",
       "      <td>0.6837</td>\n",
       "      <td>NaN</td>\n",
       "      <td>NaN</td>\n",
       "      <td>Virgin America</td>\n",
       "      <td>NaN</td>\n",
       "      <td>yvonnalynn</td>\n",
       "      <td>NaN</td>\n",
       "      <td>0</td>\n",
       "      <td>@VirginAmerica I didn't today... Must mean I n...</td>\n",
       "      <td>NaN</td>\n",
       "      <td>2015-02-24 11:15:48 -0800</td>\n",
       "      <td>Lets Play</td>\n",
       "      <td>Central Time (US &amp; Canada)</td>\n",
       "    </tr>\n",
       "    <tr>\n",
       "      <th>3</th>\n",
       "      <td>570301031407624196</td>\n",
       "      <td>negative</td>\n",
       "      <td>1.0000</td>\n",
       "      <td>Bad Flight</td>\n",
       "      <td>0.7033</td>\n",
       "      <td>Virgin America</td>\n",
       "      <td>NaN</td>\n",
       "      <td>jnardino</td>\n",
       "      <td>NaN</td>\n",
       "      <td>0</td>\n",
       "      <td>@VirginAmerica it's really aggressive to blast...</td>\n",
       "      <td>NaN</td>\n",
       "      <td>2015-02-24 11:15:36 -0800</td>\n",
       "      <td>NaN</td>\n",
       "      <td>Pacific Time (US &amp; Canada)</td>\n",
       "    </tr>\n",
       "    <tr>\n",
       "      <th>4</th>\n",
       "      <td>570300817074462722</td>\n",
       "      <td>negative</td>\n",
       "      <td>1.0000</td>\n",
       "      <td>Can't Tell</td>\n",
       "      <td>1.0000</td>\n",
       "      <td>Virgin America</td>\n",
       "      <td>NaN</td>\n",
       "      <td>jnardino</td>\n",
       "      <td>NaN</td>\n",
       "      <td>0</td>\n",
       "      <td>@VirginAmerica and it's a really big bad thing...</td>\n",
       "      <td>NaN</td>\n",
       "      <td>2015-02-24 11:14:45 -0800</td>\n",
       "      <td>NaN</td>\n",
       "      <td>Pacific Time (US &amp; Canada)</td>\n",
       "    </tr>\n",
       "  </tbody>\n",
       "</table>\n",
       "</div>"
      ],
      "text/plain": [
       "             tweet_id airline_sentiment  airline_sentiment_confidence  \\\n",
       "0  570306133677760513           neutral                        1.0000   \n",
       "1  570301130888122368          positive                        0.3486   \n",
       "2  570301083672813571           neutral                        0.6837   \n",
       "3  570301031407624196          negative                        1.0000   \n",
       "4  570300817074462722          negative                        1.0000   \n",
       "\n",
       "  negativereason  negativereason_confidence         airline  \\\n",
       "0            NaN                        NaN  Virgin America   \n",
       "1            NaN                     0.0000  Virgin America   \n",
       "2            NaN                        NaN  Virgin America   \n",
       "3     Bad Flight                     0.7033  Virgin America   \n",
       "4     Can't Tell                     1.0000  Virgin America   \n",
       "\n",
       "  airline_sentiment_gold        name negativereason_gold  retweet_count  \\\n",
       "0                    NaN     cairdin                 NaN              0   \n",
       "1                    NaN    jnardino                 NaN              0   \n",
       "2                    NaN  yvonnalynn                 NaN              0   \n",
       "3                    NaN    jnardino                 NaN              0   \n",
       "4                    NaN    jnardino                 NaN              0   \n",
       "\n",
       "                                                text tweet_coord  \\\n",
       "0                @VirginAmerica What @dhepburn said.         NaN   \n",
       "1  @VirginAmerica plus you've added commercials t...         NaN   \n",
       "2  @VirginAmerica I didn't today... Must mean I n...         NaN   \n",
       "3  @VirginAmerica it's really aggressive to blast...         NaN   \n",
       "4  @VirginAmerica and it's a really big bad thing...         NaN   \n",
       "\n",
       "               tweet_created tweet_location               user_timezone  \n",
       "0  2015-02-24 11:35:52 -0800            NaN  Eastern Time (US & Canada)  \n",
       "1  2015-02-24 11:15:59 -0800            NaN  Pacific Time (US & Canada)  \n",
       "2  2015-02-24 11:15:48 -0800      Lets Play  Central Time (US & Canada)  \n",
       "3  2015-02-24 11:15:36 -0800            NaN  Pacific Time (US & Canada)  \n",
       "4  2015-02-24 11:14:45 -0800            NaN  Pacific Time (US & Canada)  "
      ]
     },
     "execution_count": 2,
     "metadata": {},
     "output_type": "execute_result"
    }
   ],
   "source": [
    "df_input = pd.read_csv('input/AirlineTweets.csv')\n",
    "df_input.head()"
   ]
  },
  {
   "cell_type": "code",
   "execution_count": 3,
   "metadata": {},
   "outputs": [
    {
     "data": {
      "text/html": [
       "<div>\n",
       "<style scoped>\n",
       "    .dataframe tbody tr th:only-of-type {\n",
       "        vertical-align: middle;\n",
       "    }\n",
       "\n",
       "    .dataframe tbody tr th {\n",
       "        vertical-align: top;\n",
       "    }\n",
       "\n",
       "    .dataframe thead th {\n",
       "        text-align: right;\n",
       "    }\n",
       "</style>\n",
       "<table border=\"1\" class=\"dataframe\">\n",
       "  <thead>\n",
       "    <tr style=\"text-align: right;\">\n",
       "      <th></th>\n",
       "      <th>int_class</th>\n",
       "      <th>airline_sentiment</th>\n",
       "    </tr>\n",
       "  </thead>\n",
       "  <tbody>\n",
       "    <tr>\n",
       "      <th>0</th>\n",
       "      <td>1</td>\n",
       "      <td>neutral</td>\n",
       "    </tr>\n",
       "    <tr>\n",
       "      <th>1</th>\n",
       "      <td>2</td>\n",
       "      <td>positive</td>\n",
       "    </tr>\n",
       "    <tr>\n",
       "      <th>2</th>\n",
       "      <td>1</td>\n",
       "      <td>neutral</td>\n",
       "    </tr>\n",
       "    <tr>\n",
       "      <th>3</th>\n",
       "      <td>0</td>\n",
       "      <td>negative</td>\n",
       "    </tr>\n",
       "    <tr>\n",
       "      <th>4</th>\n",
       "      <td>0</td>\n",
       "      <td>negative</td>\n",
       "    </tr>\n",
       "  </tbody>\n",
       "</table>\n",
       "</div>"
      ],
      "text/plain": [
       "   int_class airline_sentiment\n",
       "0          1           neutral\n",
       "1          2          positive\n",
       "2          1           neutral\n",
       "3          0          negative\n",
       "4          0          negative"
      ]
     },
     "execution_count": 3,
     "metadata": {},
     "output_type": "execute_result"
    }
   ],
   "source": [
    "sent2int = {\n",
    "    'positive': 2,\n",
    "    'neutral': 1,\n",
    "    'negative': 0\n",
    "}\n",
    "\n",
    "df_input['int_class'] = df_input['airline_sentiment'].apply(lambda row: sent2int[row])\n",
    "df_input[['int_class', 'airline_sentiment']].head()"
   ]
  },
  {
   "cell_type": "code",
   "execution_count": 4,
   "metadata": {},
   "outputs": [],
   "source": [
    "X_train, X_test, y_train, y_test = traian_test_split(df_input['text'], df_input['int_class'], test_size=0.2)"
   ]
  },
  {
   "cell_type": "code",
   "execution_count": 5,
   "metadata": {},
   "outputs": [
    {
     "name": "stdout",
     "output_type": "stream",
     "text": [
      "Train accuracy: 0.8803790983606558\n",
      "Test accuracy: 0.8029371584699454\n"
     ]
    }
   ],
   "source": [
    "# first, this does sentiment analysis on just the text input, not on the other features\n",
    "\n",
    "tfidf = TfidfVectorizer()\n",
    "tf_X_train = tfidf.fit_transform(X_train)\n",
    "tf_X_test = tfidf.transform(X_test)\n",
    "\n",
    "lr_text_only = LogisticRegression(max_iter=500)\n",
    "lr_text_only.fit(tf_X_train, y_train)\n",
    "\n",
    "print(f'Train accuracy: {lr_text_only.score(tf_X_train, y_train)}')\n",
    "print(f'Test accuracy: {lr_text_only.score(tf_X_test, y_test)}')"
   ]
  },
  {
   "cell_type": "code",
   "execution_count": 6,
   "metadata": {},
   "outputs": [],
   "source": [
    "# ok so I think we should add other features to the tfidf vector from the initial dataset\n",
    "# e.g. airline_sentiment_confidence (float), negativereason (str), negativereason_confidence (float)\n",
    "\n",
    "# cols = ['text', 'airline_sentiment_confidence', 'negativereason', 'negativereason_confidence']\n",
    "\n",
    "# X_train, X_test, y_train, y_test = train_test_split(df_input[cols], df_input['int_class'], test_size=0.2)\n",
    "\n",
    "# tfidf = TfidfVectorizer()\n",
    "# tf_X_train = tfidf.fit_transform(X_train['text'])\n",
    "# tf_X_test = tfidf.transform(X_test['text'])"
   ]
  },
  {
   "cell_type": "code",
   "execution_count": 7,
   "metadata": {},
   "outputs": [],
   "source": [
    "# asc_col_train = X_train['airline_sentiment_confidence'].to_numpy().reshape(-1,1)\n",
    "# asc_col_test = X_test['airline_sentiment_confidence'].to_numpy().reshape(-1,1)\n",
    "# X_train_asc = hstack((tf_X_train, asc_col_train))\n",
    "# X_test_asc = hstack((tf_X_test, asc_col_test))\n",
    "\n",
    "# lr = LogisticRegression(max_iter=500)\n",
    "# lr.fit(X_train_asc, y_train)\n",
    "\n",
    "# print(f'Train accuracy: {lr.score(X_train_asc, y_train)}')\n",
    "# print(f'Test accuracy: {lr.score(X_test_asc, y_test)}')"
   ]
  },
  {
   "cell_type": "code",
   "execution_count": 8,
   "metadata": {},
   "outputs": [],
   "source": [
    "# add other tf-idf'd text\n",
    "\n",
    "cols = ['text', 'airline_sentiment_confidence', 'negativereason', 'negativereason_confidence']\n",
    "X_train_full, X_test_full, y_train_full, y_test_full = train_test_split(df_input[cols], df_input['int_class'], test_size=0.2)\n",
    "\n",
    "def add_tfidf(cols, X_train, X_test):\n",
    "    \n",
    "    # initialize\n",
    "    tfidf = TfidfVectorizer()\n",
    "    X_train_total = tfidf.fit_transform(X_train[cols[0]].fillna(''))\n",
    "    X_test_total = tfidf.transform(X_test[cols[0]].fillna(''))\n",
    "    \n",
    "    if len(cols) > 1:\n",
    "        for col in cols[1:]:\n",
    "            tfidf = TfidfVectorizer()\n",
    "            X_train_temp = tfidf.fit_transform(X_train[col].fillna(''))\n",
    "            X_test_temp = tfidf.transform(X_test[col].fillna(''))\n",
    "\n",
    "            X_train_total = hstack((X_train_total, X_train_temp))\n",
    "            X_test_total = hstack((X_test_total, X_test_temp))\n",
    "\n",
    "    return X_train_total, X_test_total\n",
    "\n",
    "X_train_tfidf, X_test_tfidf = add_tfidf(['text', 'negativereason'], X_train_full, X_test_full)\n"
   ]
  },
  {
   "cell_type": "code",
   "execution_count": 9,
   "metadata": {},
   "outputs": [],
   "source": [
    "def add_float_cols(cols, X_train, X_test):\n",
    "    X_train_float = X_train[cols[0]].fillna(0).to_numpy().reshape(-1,1)\n",
    "    X_test_float = X_test[cols[0]].fillna(0).to_numpy().reshape(-1,1)\n",
    "\n",
    "    if len(cols) > 1:\n",
    "        for col in cols[1:]:\n",
    "            temp_col_train = X_train[col].fillna(0).to_numpy().reshape(-1,1)\n",
    "            temp_col_test = X_test[col].fillna(0).to_numpy().reshape(-1,1)\n",
    "\n",
    "            X_train_float = np.hstack((X_train_float, temp_col_train))\n",
    "            X_test_float = np.hstack((X_test_float, temp_col_test))\n",
    "\n",
    "    return X_train_float, X_test_float\n",
    "\n",
    "X_train_float, X_test_float = add_float_cols(['airline_sentiment_confidence', 'negativereason_confidence'], X_train_full, X_test_full)"
   ]
  },
  {
   "cell_type": "code",
   "execution_count": 10,
   "metadata": {},
   "outputs": [],
   "source": [
    "X_train_inp = hstack((X_train_tfidf, X_train_float))\n",
    "X_test_inp = hstack((X_test_tfidf, X_test_float))"
   ]
  },
  {
   "cell_type": "code",
   "execution_count": 13,
   "metadata": {},
   "outputs": [
    {
     "name": "stdout",
     "output_type": "stream",
     "text": [
      "Train accuracy: 0.9696892076502732\n",
      "Train accuracy: 0.9381830601092896\n"
     ]
    }
   ],
   "source": [
    "def setup_lr(X_train, y_train):\n",
    "    lr = LogisticRegression(max_iter=500)\n",
    "    lr.fit(X_train, y_train)\n",
    "    return lr\n",
    "\n",
    "def score_lr(lr, X_train, X_test, y_train, y_test):\n",
    "    results = f'Train accuracy: {lr.score(X_train, y_train)}\\n'\n",
    "    results += f'Train accuracy: {lr.score(X_test, y_test)}'\n",
    "    return results\n",
    "\n",
    "lr_full = setup_lr(X_train_inp, y_train_full)\n",
    "print(score_lr(lr_full, X_train_inp, X_test_inp, y_train_full, y_test_full))"
   ]
  },
  {
   "cell_type": "code",
   "execution_count": 14,
   "metadata": {},
   "outputs": [
    {
     "name": "stdout",
     "output_type": "stream",
     "text": [
      "Train accuracy: 0.8803790983606558\n",
      "Train accuracy: 0.8029371584699454\n"
     ]
    }
   ],
   "source": [
    "print(score_lr(lr_text_only, tf_X_train, tf_X_test, y_train, y_test))"
   ]
  },
  {
   "cell_type": "code",
   "execution_count": null,
   "metadata": {},
   "outputs": [],
   "source": []
  }
 ],
 "metadata": {
  "kernelspec": {
   "display_name": "Python 3.10.4 ('nlp')",
   "language": "python",
   "name": "python3"
  },
  "language_info": {
   "codemirror_mode": {
    "name": "ipython",
    "version": 3
   },
   "file_extension": ".py",
   "mimetype": "text/x-python",
   "name": "python",
   "nbconvert_exporter": "python",
   "pygments_lexer": "ipython3",
   "version": "3.10.4"
  },
  "orig_nbformat": 4,
  "vscode": {
   "interpreter": {
    "hash": "d4923b0cf400c235129cc738c3508a6cd52776416c1524016eb17621a3e6dbb3"
   }
  }
 },
 "nbformat": 4,
 "nbformat_minor": 2
}
