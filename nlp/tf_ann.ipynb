{
 "cells": [
  {
   "cell_type": "code",
   "execution_count": 31,
   "metadata": {},
   "outputs": [],
   "source": [
    "import pandas as pd\n",
    "\n",
    "from sklearn.feature_extraction.text import TfidfVectorizer                       \n",
    "from sklearn.model_selection import train_test_split\n",
    "\n",
    "import tensorflow as tf\n",
    "from tensorflow.keras.layers import Dense, Input\n",
    "from tensorflow.keras.models import Model\n",
    "from tensorflow.keras.losses import SparseCategoricalCrossentropy\n",
    "from tensorflow.keras.optimizers import Adam"
   ]
  },
  {
   "cell_type": "code",
   "execution_count": 32,
   "metadata": {},
   "outputs": [],
   "source": [
    "# get articles into articles, labels into labels\n",
    "\n",
    "articles = []\n",
    "labels = []\n",
    "\n",
    "with open('input/bbc_text_cls.csv') as f:\n",
    "    running_art = ''\n",
    "    for l in f.readlines()[1:]:\n",
    "        if '\",' not in l or '\", ' in l:\n",
    "            running_art += f'{l.strip()} '\n",
    "        else:\n",
    "            last_line = l.split('\",')\n",
    "            assert len(last_line) == 2\n",
    "            articles.append(running_art + last_line[0].strip())\n",
    "            labels.append(last_line[1].strip())\n",
    "            running_art = ''\n"
   ]
  },
  {
   "cell_type": "code",
   "execution_count": 33,
   "metadata": {},
   "outputs": [
    {
     "data": {
      "text/html": [
       "<div>\n",
       "<style scoped>\n",
       "    .dataframe tbody tr th:only-of-type {\n",
       "        vertical-align: middle;\n",
       "    }\n",
       "\n",
       "    .dataframe tbody tr th {\n",
       "        vertical-align: top;\n",
       "    }\n",
       "\n",
       "    .dataframe thead th {\n",
       "        text-align: right;\n",
       "    }\n",
       "</style>\n",
       "<table border=\"1\" class=\"dataframe\">\n",
       "  <thead>\n",
       "    <tr style=\"text-align: right;\">\n",
       "      <th></th>\n",
       "      <th>text</th>\n",
       "      <th>label</th>\n",
       "    </tr>\n",
       "  </thead>\n",
       "  <tbody>\n",
       "    <tr>\n",
       "      <th>0</th>\n",
       "      <td>\"Ad sales boost Time Warner profit  Quarterly ...</td>\n",
       "      <td>0</td>\n",
       "    </tr>\n",
       "    <tr>\n",
       "      <th>1</th>\n",
       "      <td>\"Dollar gains on Greenspan speech  The dollar ...</td>\n",
       "      <td>0</td>\n",
       "    </tr>\n",
       "    <tr>\n",
       "      <th>2</th>\n",
       "      <td>\"Yukos unit buyer faces loan claim  The owners...</td>\n",
       "      <td>0</td>\n",
       "    </tr>\n",
       "    <tr>\n",
       "      <th>3</th>\n",
       "      <td>\"High fuel prices hit BA's profits  British Ai...</td>\n",
       "      <td>0</td>\n",
       "    </tr>\n",
       "    <tr>\n",
       "      <th>4</th>\n",
       "      <td>\"Pernod takeover talk lifts Domecq  Shares in ...</td>\n",
       "      <td>0</td>\n",
       "    </tr>\n",
       "  </tbody>\n",
       "</table>\n",
       "</div>"
      ],
      "text/plain": [
       "                                                text  label\n",
       "0  \"Ad sales boost Time Warner profit  Quarterly ...      0\n",
       "1  \"Dollar gains on Greenspan speech  The dollar ...      0\n",
       "2  \"Yukos unit buyer faces loan claim  The owners...      0\n",
       "3  \"High fuel prices hit BA's profits  British Ai...      0\n",
       "4  \"Pernod takeover talk lifts Domecq  Shares in ...      0"
      ]
     },
     "execution_count": 33,
     "metadata": {},
     "output_type": "execute_result"
    }
   ],
   "source": [
    "# get labels into category values\n",
    "label2int = {}\n",
    "count = 0\n",
    "for l in labels:\n",
    "    if l not in label2int:\n",
    "        label2int[l] = count\n",
    "        count += 1\n",
    "\n",
    "int_labels = [label2int[l] for l in labels]\n",
    "df = pd.DataFrame(list(zip(articles, int_labels)), columns=['text', 'label'])\n",
    "\n",
    "df.head()"
   ]
  },
  {
   "cell_type": "code",
   "execution_count": 34,
   "metadata": {},
   "outputs": [],
   "source": [
    "df_train, df_test = train_test_split(df, test_size=0.3)\n",
    "\n",
    "tfidf = TfidfVectorizer()\n",
    "Xtrain = tfidf.fit_transform(df_train['text'])\n",
    "Xtest = tfidf.transform(df_test['text'])\n",
    "\n",
    "Ytrain = df_train['label']\n",
    "Ytest = df_test['label']"
   ]
  },
  {
   "cell_type": "code",
   "execution_count": 35,
   "metadata": {},
   "outputs": [
    {
     "data": {
      "text/plain": [
       "(5, 25562)"
      ]
     },
     "execution_count": 35,
     "metadata": {},
     "output_type": "execute_result"
    }
   ],
   "source": [
    "# num classes (K), counting from 1, eqaul to len of label2int\n",
    "K = len(label2int)\n",
    "\n",
    "# input feature len (D) equal to length of tfidf vector\n",
    "D = Xtrain.shape[1]\n",
    "\n",
    "K, D"
   ]
  },
  {
   "cell_type": "code",
   "execution_count": 36,
   "metadata": {},
   "outputs": [],
   "source": [
    "# D = num features\n",
    "# M = output nums, hyperparameter (arbitraty)\n",
    "# K = num classes. softmax like argmax, but returns probs for all classes (good for training)\n",
    "\n",
    "M = 300\n",
    "\n",
    "i = Input(shape=(D,))\n",
    "x = Dense(M, activation='relu')(i)\n",
    "# x = Dense(M, activation='relu')(x)\n",
    "# x = Dense(M, activation='relu')(x)\n",
    "x = Dense(K)(x)\n",
    "\n",
    "# use this following final layer only if not using from_logits below\n",
    "# x = Dense(K, activation='softmax')(x)\n",
    "\n",
    "model = Model(i, x)"
   ]
  },
  {
   "cell_type": "code",
   "execution_count": 37,
   "metadata": {},
   "outputs": [
    {
     "name": "stdout",
     "output_type": "stream",
     "text": [
      "Model: \"model_4\"\n",
      "_________________________________________________________________\n",
      " Layer (type)                Output Shape              Param #   \n",
      "=================================================================\n",
      " input_5 (InputLayer)        [(None, 25562)]           0         \n",
      "                                                                 \n",
      " dense_8 (Dense)             (None, 300)               7668900   \n",
      "                                                                 \n",
      " dense_9 (Dense)             (None, 5)                 1505      \n",
      "                                                                 \n",
      "=================================================================\n",
      "Total params: 7,670,405\n",
      "Trainable params: 7,670,405\n",
      "Non-trainable params: 0\n",
      "_________________________________________________________________\n"
     ]
    }
   ],
   "source": [
    "model.summary()"
   ]
  },
  {
   "cell_type": "code",
   "execution_count": 38,
   "metadata": {},
   "outputs": [],
   "source": [
    "\n",
    "# SparseCategoricalCrossentropy returns actual values. more efficient, less intuitive\n",
    "# CategoricalCrossentropy would also work but returns a vector of probs for each input. aka \"one-hot encoding\"\n",
    "model.compile(\n",
    "    loss=SparseCategoricalCrossentropy(from_logits=True),\n",
    "    optimizer='adam',\n",
    "    metrics=['accuracy']\n",
    ")\n",
    "\n",
    "Xtrain = Xtrain.toarray()\n",
    "Xtest = Xtest.toarray()"
   ]
  },
  {
   "cell_type": "code",
   "execution_count": 39,
   "metadata": {},
   "outputs": [
    {
     "name": "stdout",
     "output_type": "stream",
     "text": [
      "Epoch 1/10\n",
      "12/12 [==============================] - 3s 201ms/step - loss: 1.4624 - accuracy: 0.7656 - val_loss: 1.1992 - val_accuracy: 0.9799\n",
      "Epoch 2/10\n",
      "12/12 [==============================] - 2s 139ms/step - loss: 0.9310 - accuracy: 0.9947 - val_loss: 0.7304 - val_accuracy: 0.9783\n",
      "Epoch 3/10\n",
      "12/12 [==============================] - 1s 120ms/step - loss: 0.4716 - accuracy: 0.9980 - val_loss: 0.4077 - val_accuracy: 0.9845\n",
      "Epoch 4/10\n",
      "12/12 [==============================] - 2s 150ms/step - loss: 0.2150 - accuracy: 0.9987 - val_loss: 0.2476 - val_accuracy: 0.9845\n",
      "Epoch 5/10\n",
      "12/12 [==============================] - 2s 138ms/step - loss: 0.1048 - accuracy: 0.9993 - val_loss: 0.1771 - val_accuracy: 0.9845\n",
      "Epoch 6/10\n",
      "12/12 [==============================] - 2s 130ms/step - loss: 0.0593 - accuracy: 1.0000 - val_loss: 0.1425 - val_accuracy: 0.9845\n",
      "Epoch 7/10\n",
      "12/12 [==============================] - 1s 114ms/step - loss: 0.0384 - accuracy: 1.0000 - val_loss: 0.1242 - val_accuracy: 0.9845\n",
      "Epoch 8/10\n",
      "12/12 [==============================] - 1s 123ms/step - loss: 0.0275 - accuracy: 1.0000 - val_loss: 0.1129 - val_accuracy: 0.9830\n",
      "Epoch 9/10\n",
      "12/12 [==============================] - 2s 162ms/step - loss: 0.0209 - accuracy: 1.0000 - val_loss: 0.1050 - val_accuracy: 0.9830\n",
      "Epoch 10/10\n",
      "12/12 [==============================] - 2s 162ms/step - loss: 0.0167 - accuracy: 1.0000 - val_loss: 0.0991 - val_accuracy: 0.9830\n"
     ]
    }
   ],
   "source": [
    "r = model.fit(\n",
    "    Xtrain, Ytrain,\n",
    "    validation_data=(Xtest, Ytest),\n",
    "    epochs=10,\n",
    "    batch_size=128\n",
    ")"
   ]
  },
  {
   "cell_type": "code",
   "execution_count": 29,
   "metadata": {},
   "outputs": [
    {
     "data": {
      "text/plain": [
       "<matplotlib.legend.Legend at 0x14ca63370>"
      ]
     },
     "execution_count": 29,
     "metadata": {},
     "output_type": "execute_result"
    },
    {
     "data": {
      "image/png": "[encoded data removed]",
      "text/plain": [
       "<Figure size 432x288 with 1 Axes>"
      ]
     },
     "metadata": {
      "needs_background": "light"
     },
     "output_type": "display_data"
    }
   ],
   "source": [
    "import matplotlib.pyplot as plt\n",
    "plt.plot(r.history['loss'], label='train loss')\n",
    "plt.plot(r.history['val_loss'], label='val loss')\n",
    "plt.legend()"
   ]
  },
  {
   "cell_type": "code",
   "execution_count": 30,
   "metadata": {},
   "outputs": [
    {
     "data": {
      "text/plain": [
       "<matplotlib.legend.Legend at 0x14cadf400>"
      ]
     },
     "execution_count": 30,
     "metadata": {},
     "output_type": "execute_result"
    },
    {
     "data": {
      "image/png": "[encoded data removed]",
      "text/plain": [
       "<Figure size 432x288 with 1 Axes>"
      ]
     },
     "metadata": {
      "needs_background": "light"
     },
     "output_type": "display_data"
    }
   ],
   "source": [
    "plt.plot(r.history['accuracy'], label='train acc')\n",
    "plt.plot(r.history['val_accuracy'], label='val acc')\n",
    "plt.legend()"
   ]
  },
  {
   "cell_type": "code",
   "execution_count": null,
   "metadata": {},
   "outputs": [],
   "source": []
  }
 ],
 "metadata": {
  "kernelspec": {
   "display_name": "Python 3.10.4 ('nlp')",
   "language": "python",
   "name": "python3"
  },
  "language_info": {
   "codemirror_mode": {
    "name": "ipython",
    "version": 3
   },
   "file_extension": ".py",
   "mimetype": "text/x-python",
   "name": "python",
   "nbconvert_exporter": "python",
   "pygments_lexer": "ipython3",
   "version": "3.10.4"
  },
  "orig_nbformat": 4,
  "vscode": {
   "interpreter": {
    "hash": "d4923b0cf400c235129cc738c3508a6cd52776416c1524016eb17621a3e6dbb3"
   }
  }
 },
 "nbformat": 4,
 "nbformat_minor": 2
}
