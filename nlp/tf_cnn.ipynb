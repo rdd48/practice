{
 "cells": [
  {
   "cell_type": "markdown",
   "metadata": {},
   "source": [
    "# Notes\n",
    "* convolution: apply a sliding filter to channels (e.g. rgb) in input (e.g. image)\n",
    "    * filters are typically squares (K x K)\n",
    "    * weights are constant for each channel, reducing the weight matrix size greatly\n",
    "* pooling: think of this like image reduction, to make inputs smaller (e.g. take average of 4 pixels to shrink image 4-fold)\n",
    "* typical architecture:\n",
    "    * first a series of convolution & pooling\n",
    "    * then a few dense layers\n",
    "        * use GlobalMaxPooling2D() layer from Keras to get correct input shape\n",
    "        * leads to a 1x1xC input, i.e. each channel gets represented as 1 value\n",
    "        * could also use Flatten() layer but this is less flexible for different image dimensions\n",
    "    * final regression/softmax layer\n",
    "* typical conventions\n",
    "    * use small filters relative to input (e.g. 3x3 or 5x5)\n",
    "    * increase # of feature maps as you go through conv/pooling (e.g. 32 -> 64 -> 128)\n",
    "* CNNs for text\n",
    "    * treat the vectorized (2d) text as basically the image\n",
    "    * but use 1D convolution, since we only care about nearby text from within each input"
   ]
  },
  {
   "cell_type": "markdown",
   "metadata": {},
   "source": [
    "#### text matrix\n",
    "* each row is a \"timepoint,\" i.e. words within a sentence (w1, w2 ... wn)\n",
    "* each column is a different D-length vector corresponding to that word (features D1, D2, Dn)"
   ]
  },
  {
   "cell_type": "code",
   "execution_count": 1,
   "metadata": {},
   "outputs": [],
   "source": [
    "# [D -> D1   D2   Dn] <br>\n",
    "# [T1   w1D1 w1D2 w1Dn] <br>\n",
    "# [T2   w2D1 w2D2 w2Dn] <br>\n",
    "# [Tn   wnD1 wnD2 wnDn] <br>"
   ]
  },
  {
   "cell_type": "code",
   "execution_count": 24,
   "metadata": {},
   "outputs": [],
   "source": [
    "import pandas as pd\n",
    "import numpy as np\n",
    "import matplotlib.pyplot as plt\n",
    "import tensorflow as tf\n",
    "                 \n",
    "from sklearn.model_selection import train_test_split\n",
    "\n",
    "from tensorflow.keras.preprocessing.text import Tokenizer\n",
    "from tensorflow.keras.preprocessing.sequence import pad_sequences\n",
    "\n",
    "from tensorflow.keras.layers import Dense, Input, GlobalMaxPooling1D\n",
    "from tensorflow.keras.layers import Conv1D, MaxPooling1D, Embedding\n",
    "from tensorflow.keras.models import Model\n",
    "from tensorflow.keras.losses import SparseCategoricalCrossentropy\n",
    "\n"
   ]
  },
  {
   "cell_type": "code",
   "execution_count": 25,
   "metadata": {},
   "outputs": [
    {
     "data": {
      "text/html": [
       "<div>\n",
       "<style scoped>\n",
       "    .dataframe tbody tr th:only-of-type {\n",
       "        vertical-align: middle;\n",
       "    }\n",
       "\n",
       "    .dataframe tbody tr th {\n",
       "        vertical-align: top;\n",
       "    }\n",
       "\n",
       "    .dataframe thead th {\n",
       "        text-align: right;\n",
       "    }\n",
       "</style>\n",
       "<table border=\"1\" class=\"dataframe\">\n",
       "  <thead>\n",
       "    <tr style=\"text-align: right;\">\n",
       "      <th></th>\n",
       "      <th>text</th>\n",
       "      <th>labels</th>\n",
       "    </tr>\n",
       "  </thead>\n",
       "  <tbody>\n",
       "    <tr>\n",
       "      <th>0</th>\n",
       "      <td>\"Ad sales boost Time Warner profit  Quarterly ...</td>\n",
       "      <td>0</td>\n",
       "    </tr>\n",
       "    <tr>\n",
       "      <th>1</th>\n",
       "      <td>\"Dollar gains on Greenspan speech  The dollar ...</td>\n",
       "      <td>0</td>\n",
       "    </tr>\n",
       "    <tr>\n",
       "      <th>2</th>\n",
       "      <td>\"Yukos unit buyer faces loan claim  The owners...</td>\n",
       "      <td>0</td>\n",
       "    </tr>\n",
       "    <tr>\n",
       "      <th>3</th>\n",
       "      <td>\"High fuel prices hit BA's profits  British Ai...</td>\n",
       "      <td>0</td>\n",
       "    </tr>\n",
       "    <tr>\n",
       "      <th>4</th>\n",
       "      <td>\"Pernod takeover talk lifts Domecq  Shares in ...</td>\n",
       "      <td>0</td>\n",
       "    </tr>\n",
       "  </tbody>\n",
       "</table>\n",
       "</div>"
      ],
      "text/plain": [
       "                                                text  labels\n",
       "0  \"Ad sales boost Time Warner profit  Quarterly ...       0\n",
       "1  \"Dollar gains on Greenspan speech  The dollar ...       0\n",
       "2  \"Yukos unit buyer faces loan claim  The owners...       0\n",
       "3  \"High fuel prices hit BA's profits  British Ai...       0\n",
       "4  \"Pernod takeover talk lifts Domecq  Shares in ...       0"
      ]
     },
     "execution_count": 25,
     "metadata": {},
     "output_type": "execute_result"
    }
   ],
   "source": [
    "# all from tf_ann notebook\n",
    "\n",
    "articles = []\n",
    "labels = []\n",
    "\n",
    "with open('input/bbc_text_cls.csv') as f:\n",
    "    running_art = ''\n",
    "    for l in f.readlines()[1:]:\n",
    "        if '\",' not in l or '\", ' in l:\n",
    "            running_art += f'{l.strip()} '\n",
    "        else:\n",
    "            last_line = l.split('\",')\n",
    "            assert len(last_line) == 2\n",
    "            articles.append(running_art + last_line[0].strip())\n",
    "            labels.append(last_line[1].strip())\n",
    "            running_art = ''\n",
    "\n",
    "label2int = {}\n",
    "count = 0\n",
    "for l in labels:\n",
    "    if l not in label2int:\n",
    "        label2int[l] = count\n",
    "        count += 1\n",
    "\n",
    "int_labels = [label2int[l] for l in labels]\n",
    "df = pd.DataFrame(list(zip(articles, int_labels)), columns=['text', 'labels'])\n",
    "df.head()\n"
   ]
  },
  {
   "cell_type": "code",
   "execution_count": 26,
   "metadata": {},
   "outputs": [],
   "source": [
    "df_train, df_test = train_test_split(df, test_size=0.3)\n",
    "\n",
    "tokenizer = Tokenizer(\n",
    "    num_words = 2000\n",
    ")\n",
    "tokenizer.fit_on_texts(df_train['text'])\n",
    "sequences_train = tokenizer.texts_to_sequences(df_train['text'])\n",
    "sequences_test = tokenizer.texts_to_sequences(df_test['text'])"
   ]
  },
  {
   "cell_type": "code",
   "execution_count": 33,
   "metadata": {},
   "outputs": [
    {
     "data": {
      "text/html": [
       "<div>\n",
       "<style scoped>\n",
       "    .dataframe tbody tr th:only-of-type {\n",
       "        vertical-align: middle;\n",
       "    }\n",
       "\n",
       "    .dataframe tbody tr th {\n",
       "        vertical-align: top;\n",
       "    }\n",
       "\n",
       "    .dataframe thead th {\n",
       "        text-align: right;\n",
       "    }\n",
       "</style>\n",
       "<table border=\"1\" class=\"dataframe\">\n",
       "  <thead>\n",
       "    <tr style=\"text-align: right;\">\n",
       "      <th></th>\n",
       "      <th>text_vec</th>\n",
       "      <th>labels</th>\n",
       "    </tr>\n",
       "  </thead>\n",
       "  <tbody>\n",
       "    <tr>\n",
       "      <th>592</th>\n",
       "      <td>[0, 0, 0, 0, 0, 0, 0, 0, 0, 0, 0, 0, 0, 0, 0, ...</td>\n",
       "      <td>1</td>\n",
       "    </tr>\n",
       "    <tr>\n",
       "      <th>1350</th>\n",
       "      <td>[0, 0, 0, 0, 0, 0, 0, 0, 0, 0, 0, 0, 0, 0, 0, ...</td>\n",
       "      <td>3</td>\n",
       "    </tr>\n",
       "    <tr>\n",
       "      <th>1310</th>\n",
       "      <td>[0, 0, 0, 0, 0, 0, 0, 0, 0, 0, 0, 0, 0, 0, 0, ...</td>\n",
       "      <td>3</td>\n",
       "    </tr>\n",
       "    <tr>\n",
       "      <th>1078</th>\n",
       "      <td>[0, 0, 0, 0, 0, 0, 0, 0, 0, 0, 0, 0, 0, 0, 0, ...</td>\n",
       "      <td>2</td>\n",
       "    </tr>\n",
       "    <tr>\n",
       "      <th>1435</th>\n",
       "      <td>[0, 0, 0, 0, 0, 0, 0, 0, 0, 0, 0, 0, 0, 0, 0, ...</td>\n",
       "      <td>3</td>\n",
       "    </tr>\n",
       "  </tbody>\n",
       "</table>\n",
       "</div>"
      ],
      "text/plain": [
       "                                               text_vec  labels\n",
       "592   [0, 0, 0, 0, 0, 0, 0, 0, 0, 0, 0, 0, 0, 0, 0, ...       1\n",
       "1350  [0, 0, 0, 0, 0, 0, 0, 0, 0, 0, 0, 0, 0, 0, 0, ...       3\n",
       "1310  [0, 0, 0, 0, 0, 0, 0, 0, 0, 0, 0, 0, 0, 0, 0, ...       3\n",
       "1078  [0, 0, 0, 0, 0, 0, 0, 0, 0, 0, 0, 0, 0, 0, 0, ...       2\n",
       "1435  [0, 0, 0, 0, 0, 0, 0, 0, 0, 0, 0, 0, 0, 0, 0, ...       3"
      ]
     },
     "execution_count": 33,
     "metadata": {},
     "output_type": "execute_result"
    }
   ],
   "source": [
    "pad_train = pad_sequences(sequences_train)\n",
    "\n",
    "# T is the sequence len. could also do pad_train.shape[1]\n",
    "T = len(pad_train[0]) \n",
    "\n",
    "pad_test = pad_sequences(sequences_test, maxlen=T)\n",
    "\n",
    "df_train['text_vec'] = pad_train.tolist()\n",
    "df_test['text_vec'] = pad_test.tolist()\n",
    "\n",
    "df_train = df_train[['text_vec', 'labels']]\n",
    "df_test = df_test[['text_vec', 'labels']]\n",
    "df_train.head()"
   ]
  },
  {
   "cell_type": "code",
   "execution_count": 34,
   "metadata": {},
   "outputs": [
    {
     "data": {
      "text/plain": [
       "(27883, 3497, 50, 5)"
      ]
     },
     "execution_count": 34,
     "metadata": {},
     "output_type": "execute_result"
    }
   ],
   "source": [
    "# V = the length of the word to int vector, aka vocab size\n",
    "V = len(tokenizer.word_index)\n",
    "\n",
    "# T is the sequence len. could also do pad_train.shape[1]\n",
    "T = len(pad_train[0]) \n",
    "\n",
    "# pick D embedding size hyperparameter, could be changed\n",
    "D = 50\n",
    "\n",
    "K = len(label2int)\n",
    "\n",
    "V, T, D, K"
   ]
  },
  {
   "cell_type": "code",
   "execution_count": 35,
   "metadata": {},
   "outputs": [
    {
     "name": "stdout",
     "output_type": "stream",
     "text": [
      "Model: \"model_6\"\n",
      "_________________________________________________________________\n",
      " Layer (type)                Output Shape              Param #   \n",
      "=================================================================\n",
      " input_9 (InputLayer)        [(None, 3497)]            0         \n",
      "                                                                 \n",
      " embedding_8 (Embedding)     (None, 3497, 50)          1394200   \n",
      "                                                                 \n",
      " conv1d_14 (Conv1D)          (None, 3495, 32)          4832      \n",
      "                                                                 \n",
      " global_max_pooling1d_8 (Glo  (None, 32)               0         \n",
      " balMaxPooling1D)                                                \n",
      "                                                                 \n",
      " dense_7 (Dense)             (None, 5)                 165       \n",
      "                                                                 \n",
      "=================================================================\n",
      "Total params: 1,399,197\n",
      "Trainable params: 1,399,197\n",
      "Non-trainable params: 0\n",
      "_________________________________________________________________\n"
     ]
    }
   ],
   "source": [
    "# build model\n",
    "\n",
    "i = Input(shape=(T,))\n",
    "x = Embedding(V+1, D)(i)\n",
    "x = Conv1D(32, 3, activation='relu')(x)\n",
    "# i think the 3 in MaxPooling1D is just the factor to reduce the image by, not the channels\n",
    "# x = MaxPooling1D(3)(x) \n",
    "# x = Conv1D(64, 3, activation='relu')(x)\n",
    "x = GlobalMaxPooling1D()(x)\n",
    "x = Dense(K)(x)\n",
    "\n",
    "model = Model(i, x)\n",
    "model.summary()\n"
   ]
  },
  {
   "cell_type": "code",
   "execution_count": 36,
   "metadata": {},
   "outputs": [
    {
     "name": "stdout",
     "output_type": "stream",
     "text": [
      "Epoch 1/10\n",
      "48/48 [==============================] - 22s 435ms/step - loss: 1.5635 - accuracy: 0.3393 - val_loss: 1.4895 - val_accuracy: 0.5526\n",
      "Epoch 2/10\n",
      "48/48 [==============================] - 13s 270ms/step - loss: 1.3331 - accuracy: 0.7158 - val_loss: 1.1906 - val_accuracy: 0.7926\n",
      "Epoch 3/10\n",
      "48/48 [==============================] - 11s 219ms/step - loss: 0.9161 - accuracy: 0.8725 - val_loss: 0.7709 - val_accuracy: 0.8375\n",
      "Epoch 4/10\n",
      "48/48 [==============================] - 10s 211ms/step - loss: 0.5243 - accuracy: 0.9104 - val_loss: 0.5028 - val_accuracy: 0.8854\n",
      "Epoch 5/10\n",
      "48/48 [==============================] - 11s 224ms/step - loss: 0.3102 - accuracy: 0.9449 - val_loss: 0.3621 - val_accuracy: 0.9149\n",
      "Epoch 6/10\n",
      "48/48 [==============================] - 11s 229ms/step - loss: 0.2007 - accuracy: 0.9655 - val_loss: 0.2923 - val_accuracy: 0.9303\n",
      "Epoch 7/10\n",
      "48/48 [==============================] - 10s 212ms/step - loss: 0.1373 - accuracy: 0.9794 - val_loss: 0.2475 - val_accuracy: 0.9381\n",
      "Epoch 8/10\n",
      "48/48 [==============================] - 10s 207ms/step - loss: 0.0974 - accuracy: 0.9900 - val_loss: 0.2210 - val_accuracy: 0.9365\n",
      "Epoch 9/10\n",
      "48/48 [==============================] - 10s 211ms/step - loss: 0.0713 - accuracy: 0.9934 - val_loss: 0.2001 - val_accuracy: 0.9365\n",
      "Epoch 10/10\n",
      "48/48 [==============================] - 10s 212ms/step - loss: 0.0535 - accuracy: 0.9973 - val_loss: 0.1871 - val_accuracy: 0.9396\n"
     ]
    }
   ],
   "source": [
    "model.compile(\n",
    "    loss=SparseCategoricalCrossentropy(from_logits=True),\n",
    "    optimizer='adam',\n",
    "    metrics=['accuracy']\n",
    ")\n",
    "\n",
    "r = model.fit(\n",
    "    df_train['text_vec'].tolist(),\n",
    "    df_train['labels'].tolist(),\n",
    "    epochs=10,\n",
    "    validation_data = (\n",
    "        df_test['text_vec'].tolist(),\n",
    "        df_test['labels'].tolist()\n",
    "    )\n",
    ")\n"
   ]
  },
  {
   "cell_type": "code",
   "execution_count": 41,
   "metadata": {},
   "outputs": [
    {
     "data": {
      "image/png": "[encoded data removed]",
      "text/plain": [
       "<Figure size 432x288 with 2 Axes>"
      ]
     },
     "metadata": {
      "needs_background": "light"
     },
     "output_type": "display_data"
    }
   ],
   "source": [
    "plt.subplot(1,2,1)\n",
    "plt.plot(r.history['accuracy'], label='train accuracy')\n",
    "plt.plot(r.history['val_accuracy'], label='test accuracy')\n",
    "plt.legend()\n",
    "\n",
    "plt.subplot(1,2,2)\n",
    "plt.plot(r.history['loss'], label='train loss')\n",
    "plt.plot(r.history['val_loss'], label='test loss')\n",
    "plt.legend()\n",
    "\n",
    "plt.show()"
   ]
  },
  {
   "cell_type": "code",
   "execution_count": 37,
   "metadata": {},
   "outputs": [
    {
     "name": "stdout",
     "output_type": "stream",
     "text": [
      "Model: \"model_7\"\n",
      "_________________________________________________________________\n",
      " Layer (type)                Output Shape              Param #   \n",
      "=================================================================\n",
      " input_10 (InputLayer)       [(None, 3497)]            0         \n",
      "                                                                 \n",
      " embedding_9 (Embedding)     (None, 3497, 50)          1394200   \n",
      "                                                                 \n",
      " conv1d_15 (Conv1D)          (None, 3495, 32)          4832      \n",
      "                                                                 \n",
      " max_pooling1d_6 (MaxPooling  (None, 1165, 32)         0         \n",
      " 1D)                                                             \n",
      "                                                                 \n",
      " conv1d_16 (Conv1D)          (None, 1163, 64)          6208      \n",
      "                                                                 \n",
      " global_max_pooling1d_9 (Glo  (None, 64)               0         \n",
      " balMaxPooling1D)                                                \n",
      "                                                                 \n",
      " dense_8 (Dense)             (None, 5)                 325       \n",
      "                                                                 \n",
      "=================================================================\n",
      "Total params: 1,405,565\n",
      "Trainable params: 1,405,565\n",
      "Non-trainable params: 0\n",
      "_________________________________________________________________\n"
     ]
    }
   ],
   "source": [
    "# build model with more layers\n",
    "\n",
    "i = Input(shape=(T,))\n",
    "x = Embedding(V+1, D)(i)\n",
    "x = Conv1D(32, 3, activation='relu')(x)\n",
    "# i think the 3 in MaxPooling1D is just the factor to reduce the image by, not the channels\n",
    "x = MaxPooling1D(3)(x) \n",
    "x = Conv1D(64, 3, activation='relu')(x)\n",
    "x = GlobalMaxPooling1D()(x)\n",
    "x = Dense(K)(x)\n",
    "\n",
    "model = Model(i, x)\n",
    "model.summary()\n"
   ]
  },
  {
   "cell_type": "code",
   "execution_count": 38,
   "metadata": {},
   "outputs": [
    {
     "name": "stdout",
     "output_type": "stream",
     "text": [
      "Epoch 1/10\n",
      "48/48 [==============================] - 29s 589ms/step - loss: 1.5998 - accuracy: 0.2410 - val_loss: 1.5861 - val_accuracy: 0.3576\n",
      "Epoch 2/10\n",
      "48/48 [==============================] - 19s 387ms/step - loss: 1.5465 - accuracy: 0.4442 - val_loss: 1.5197 - val_accuracy: 0.4706\n",
      "Epoch 3/10\n",
      "48/48 [==============================] - 17s 354ms/step - loss: 1.2661 - accuracy: 0.6295 - val_loss: 0.9249 - val_accuracy: 0.7430\n",
      "Epoch 4/10\n",
      "48/48 [==============================] - 18s 368ms/step - loss: 0.5010 - accuracy: 0.8931 - val_loss: 0.3473 - val_accuracy: 0.9071\n",
      "Epoch 5/10\n",
      "48/48 [==============================] - 18s 386ms/step - loss: 0.1686 - accuracy: 0.9602 - val_loss: 0.2182 - val_accuracy: 0.9396\n",
      "Epoch 6/10\n",
      "48/48 [==============================] - 14s 297ms/step - loss: 0.0697 - accuracy: 0.9887 - val_loss: 0.1772 - val_accuracy: 0.9474\n",
      "Epoch 7/10\n",
      "48/48 [==============================] - 11s 237ms/step - loss: 0.0303 - accuracy: 0.9980 - val_loss: 0.1702 - val_accuracy: 0.9443\n",
      "Epoch 8/10\n",
      "48/48 [==============================] - 15s 303ms/step - loss: 0.0157 - accuracy: 1.0000 - val_loss: 0.1602 - val_accuracy: 0.9474\n",
      "Epoch 9/10\n",
      "48/48 [==============================] - 17s 359ms/step - loss: 0.0094 - accuracy: 1.0000 - val_loss: 0.1573 - val_accuracy: 0.9489\n",
      "Epoch 10/10\n",
      "48/48 [==============================] - 19s 397ms/step - loss: 0.0065 - accuracy: 1.0000 - val_loss: 0.1581 - val_accuracy: 0.9458\n"
     ]
    }
   ],
   "source": [
    "model.compile(\n",
    "    loss=SparseCategoricalCrossentropy(from_logits=True),\n",
    "    optimizer='adam',\n",
    "    metrics=['accuracy']\n",
    ")\n",
    "\n",
    "r = model.fit(\n",
    "    df_train['text_vec'].tolist(),\n",
    "    df_train['labels'].tolist(),\n",
    "    epochs=10,\n",
    "    validation_data = (\n",
    "        df_test['text_vec'].tolist(),\n",
    "        df_test['labels'].tolist()\n",
    "    )\n",
    ")\n"
   ]
  },
  {
   "cell_type": "code",
   "execution_count": 39,
   "metadata": {},
   "outputs": [
    {
     "data": {
      "image/png": "[encoded data removed]",
      "text/plain": [
       "<Figure size 432x288 with 2 Axes>"
      ]
     },
     "metadata": {
      "needs_background": "light"
     },
     "output_type": "display_data"
    }
   ],
   "source": [
    "plt.subplot(1,2,1)\n",
    "plt.plot(r.history['accuracy'], label='train accuracy')\n",
    "plt.plot(r.history['val_accuracy'], label='test accuracy')\n",
    "plt.legend()\n",
    "\n",
    "plt.subplot(1,2,2)\n",
    "plt.plot(r.history['loss'], label='train loss')\n",
    "plt.plot(r.history['val_loss'], label='test loss')\n",
    "plt.legend()\n",
    "\n",
    "plt.show()"
   ]
  },
  {
   "cell_type": "code",
   "execution_count": null,
   "metadata": {},
   "outputs": [],
   "source": []
  }
 ],
 "metadata": {
  "kernelspec": {
   "display_name": "Python 3.10.4 ('nlp')",
   "language": "python",
   "name": "python3"
  },
  "language_info": {
   "codemirror_mode": {
    "name": "ipython",
    "version": 3
   },
   "file_extension": ".py",
   "mimetype": "text/x-python",
   "name": "python",
   "nbconvert_exporter": "python",
   "pygments_lexer": "ipython3",
   "version": "3.10.4"
  },
  "orig_nbformat": 4,
  "vscode": {
   "interpreter": {
    "hash": "d4923b0cf400c235129cc738c3508a6cd52776416c1524016eb17621a3e6dbb3"
   }
  }
 },
 "nbformat": 4,
 "nbformat_minor": 2
}
