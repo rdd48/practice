{
 "cells": [
  {
   "cell_type": "code",
   "execution_count": 188,
   "metadata": {},
   "outputs": [],
   "source": [
    "import numpy as np"
   ]
  },
  {
   "cell_type": "code",
   "execution_count": 189,
   "metadata": {},
   "outputs": [],
   "source": [
    "punc = '''!()-[]{};:'\"\\,<>./?@#$%^&*_~'''\n",
    "\n",
    "def remove_punc(l):\n",
    "    split_l = l.split()\n",
    "    new_l = []\n",
    "    for word in split_l:\n",
    "        no_punc = ''\n",
    "        for char in word:\n",
    "            if char not in punc:\n",
    "                no_punc += char\n",
    "        if no_punc:\n",
    "            new_l.append(no_punc.lower())\n",
    "    return new_l\n",
    "\n",
    "def poem_to_words(txt_file):\n",
    "    '''train test split + split lines from input'''\n",
    "    saved_words = []\n",
    "    with open(txt_file, 'r') as f:\n",
    "        lines = f.readlines()\n",
    "        for l in lines:\n",
    "            # check that line has data\n",
    "            if len(l.strip()) > 0:\n",
    "                # split and remove punctuation\n",
    "                split_l = remove_punc(l)\n",
    "                for word in split_l:\n",
    "                    saved_words.append(word)\n",
    "    return saved_words\n",
    "\n",
    "def poem_to_list(txt_file):\n",
    "    '''train test split + split lines from input'''\n",
    "    saved_lines = []\n",
    "    with open(txt_file, 'r') as f:\n",
    "        lines = f.readlines()\n",
    "        for l in lines:\n",
    "            # check that line has data\n",
    "            if len(l.strip()) > 0:\n",
    "                # split and remove punctuation\n",
    "                split_l = remove_punc(l)\n",
    "                saved_lines.append(split_l)\n",
    "    return saved_lines\n",
    "\n",
    "frost_list = poem_to_list('input/robert_frost.txt')"
   ]
  },
  {
   "cell_type": "code",
   "execution_count": 190,
   "metadata": {},
   "outputs": [],
   "source": [
    "# don't judge. i realized late that i needed int2word and word2int, so this was quicker than thinking\n",
    "word2int = {}\n",
    "idx = 0\n",
    "for line in frost_list:\n",
    "    for word in line:\n",
    "        if word not in word2int:\n",
    "            word2int[word] = idx\n",
    "            idx += 1\n",
    "\n",
    "int2word = {v: k for k, v in word2int.items()}\n"
   ]
  },
  {
   "cell_type": "code",
   "execution_count": null,
   "metadata": {},
   "outputs": [],
   "source": []
  },
  {
   "cell_type": "code",
   "execution_count": 191,
   "metadata": {},
   "outputs": [],
   "source": [
    "pi, A1, A2 = {}, {}, {}\n",
    "\n",
    "for line in frost_list:\n",
    "    for idx, word in enumerate(line):\n",
    "        if idx == 0:\n",
    "            if word == 'trodden':\n",
    "                print('wtf?')\n",
    "            # store word in pi\n",
    "            if word not in pi:\n",
    "                pi[word2int[word]] = 0\n",
    "            pi[word2int[word]] += 1.\n",
    "        if idx < len(line) - 1:\n",
    "            # store word in A1\n",
    "            if word2int[word] not in A1:\n",
    "                A1[word2int[word]] = {}\n",
    "            word_plus1 = line[idx+1]\n",
    "            if word_plus1 not in A1[word2int[word]]:\n",
    "                A1[word2int[word]][word2int[word_plus1]] = 0\n",
    "            A1[word2int[word]][word2int[word_plus1]] += 1.\n",
    "        if idx < len(line) - 2:\n",
    "            # store word in A2:\n",
    "            if word2int[word] not in A2:\n",
    "                A2[word2int[word]] = {}\n",
    "            if word2int[word_plus1] not in A2[word2int[word]]:\n",
    "                A2[word2int[word]][word2int[word_plus1]] = {}\n",
    "            word_plus2 = line[idx+2]\n",
    "            if word2int[word_plus2] not in A2[word2int[word]][word2int[word_plus1]]:\n",
    "                A2[word2int[word]][word2int[word_plus1]][word2int[word_plus2]] = 0\n",
    "            A2[word2int[word]][word2int[word_plus1]][word2int[word_plus2]] += 1.\n",
    "            "
   ]
  },
  {
   "cell_type": "code",
   "execution_count": 192,
   "metadata": {},
   "outputs": [
    {
     "name": "stdout",
     "output_type": "stream",
     "text": [
      "{'deserted': 1.0}\n",
      "{'deserted': 0.2, 'stripped': 0.2, 'that': 0.4, 'in': 0.2}\n"
     ]
    }
   ],
   "source": [
    "def norm_dict_values(d):\n",
    "    if len(d) == 1:\n",
    "        for k in d.keys():\n",
    "            return {k: 1.}\n",
    "    cum_sum = sum(d.values())\n",
    "    probs = {}\n",
    "    for k,v in d.items():\n",
    "        probs[k] = v / cum_sum\n",
    "    \n",
    "    return probs\n",
    "\n",
    "print(norm_dict_values({'deserted': 4.0}))\n",
    "print(norm_dict_values({'deserted': 1.0, 'stripped': 1.0, 'that': 2.0, 'in': 1.0}))"
   ]
  },
  {
   "cell_type": "code",
   "execution_count": 193,
   "metadata": {},
   "outputs": [],
   "source": [
    "A2_norm = {}\n",
    "\n",
    "for k1 in A2:\n",
    "    if k1 not in A2_norm:\n",
    "        A2_norm[k1] = {}\n",
    "    for k2 in A2[k1]:\n",
    "        A2_norm[k1][k2] = norm_dict_values(A2[k1][k2])"
   ]
  },
  {
   "cell_type": "code",
   "execution_count": 194,
   "metadata": {},
   "outputs": [],
   "source": [
    "A1_norm = {}\n",
    "\n",
    "for k1 in A1:\n",
    "    A1_norm[k1] = norm_dict_values(A1[k1])"
   ]
  },
  {
   "cell_type": "code",
   "execution_count": 195,
   "metadata": {},
   "outputs": [],
   "source": [
    "pi_norm = norm_dict_values(pi)"
   ]
  },
  {
   "cell_type": "code",
   "execution_count": 257,
   "metadata": {},
   "outputs": [
    {
     "name": "stdout",
     "output_type": "stream",
     "text": [
      "has familiar spirits.\n",
      "winds would meet.\n",
      "left him hitched unblanketed.\n",
      "speaking out of it that this would be rid of\n"
     ]
    }
   ],
   "source": [
    "# time to generate\n",
    "# get first word from pi_norm dist\n",
    "# get second word from A1_norm[word - 1] dist\n",
    "# get rest of line from A2_norm[word - 2][word - 1] dist\n",
    "\n",
    "# test with a 10 word sentence\n",
    "\n",
    "def generate_sentence(max_len):\n",
    "    for idx in range(max_len):\n",
    "        if idx == 0:\n",
    "            first_word = np.random.choice(list(pi_norm.keys()), p=list(pi_norm.values()))\n",
    "            int_sentence = [first_word]\n",
    "            word_sentence = int2word[first_word]\n",
    "        elif idx == 1:\n",
    "            second_word = np.random.choice(list(A1_norm[first_word].keys()), p=list(A1_norm[first_word].values()))\n",
    "            int_sentence.append(second_word)\n",
    "            word_sentence += f' {int2word[second_word]}'\n",
    "        else:\n",
    "            word_minus2 = int_sentence[idx-2]\n",
    "            word_minus1 = int_sentence[idx-1]\n",
    "\n",
    "            if word_minus2 not in A2_norm:\n",
    "                return f'{word_sentence}.'\n",
    "                # word_sentence += '.'\n",
    "            if word_minus1 not in A2_norm[word_minus2]:\n",
    "                return f'{word_sentence}.'\n",
    "                    \n",
    "            else:\n",
    "                choices = list(A2_norm[word_minus2][word_minus1].keys())\n",
    "                probs = list(A2_norm[word_minus2][word_minus1].values())\n",
    "                following_word = np.random.choice(choices, p=probs)\n",
    "                \n",
    "                int_sentence.append(following_word)\n",
    "                word_sentence += f' {int2word[following_word]}'\n",
    "\n",
    "    return word_sentence\n",
    "\n",
    "for _ in range(4):\n",
    "    print(generate_sentence(max_len=10))"
   ]
  },
  {
   "cell_type": "code",
   "execution_count": 261,
   "metadata": {},
   "outputs": [
    {
     "name": "stdout",
     "output_type": "stream",
     "text": [
      "almost here ive had my eye on someone.\n",
      "full of it that this would be the best there\n",
      "call it day.\n",
      "some pity too.\n"
     ]
    }
   ],
   "source": [
    "for _ in range(4):\n",
    "    print(generate_sentence(max_len=10))"
   ]
  },
  {
   "cell_type": "code",
   "execution_count": null,
   "metadata": {},
   "outputs": [],
   "source": []
  },
  {
   "cell_type": "code",
   "execution_count": null,
   "metadata": {},
   "outputs": [],
   "source": []
  }
 ],
 "metadata": {
  "kernelspec": {
   "display_name": "Python 3.10.4 ('nlp')",
   "language": "python",
   "name": "python3"
  },
  "language_info": {
   "codemirror_mode": {
    "name": "ipython",
    "version": 3
   },
   "file_extension": ".py",
   "mimetype": "text/x-python",
   "name": "python",
   "nbconvert_exporter": "python",
   "pygments_lexer": "ipython3",
   "version": "3.10.4"
  },
  "orig_nbformat": 4,
  "vscode": {
   "interpreter": {
    "hash": "d4923b0cf400c235129cc738c3508a6cd52776416c1524016eb17621a3e6dbb3"
   }
  }
 },
 "nbformat": 4,
 "nbformat_minor": 2
}
