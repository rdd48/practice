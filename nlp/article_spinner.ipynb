{
 "cells": [
  {
   "cell_type": "code",
   "execution_count": 1,
   "source": [
    "import numpy as np"
   ],
   "outputs": [],
   "metadata": {}
  },
  {
   "cell_type": "code",
   "execution_count": 24,
   "source": [
    "articles = []\n",
    "labels = []\n",
    "\n",
    "with open('input/bbc_text_cls.csv') as f:\n",
    "    running_art = ''\n",
    "    for l in f.readlines()[1:]:\n",
    "        if '\",' not in l or '\", ' in l:\n",
    "            running_art += l.strip()\n",
    "        else:\n",
    "            last_line = l.split('\",')\n",
    "            assert len(last_line) == 2\n",
    "            articles.append(running_art + last_line[0].strip())\n",
    "            labels.append(last_line[1].strip())\n",
    "            running_art = ''\n",
    "\n"
   ],
   "outputs": [],
   "metadata": {}
  },
  {
   "cell_type": "code",
   "execution_count": 41,
   "source": [
    "punc = '''!()-[]{};:'\"\\,<>./?@#^&*_~'''\n",
    "\n",
    "def remove_punc(s):\n",
    "    ''' takes in a string, removes all \"useless\" punctuation, lowercases it '''\n",
    "    no_punc = ''\n",
    "    for char in s:\n",
    "        if char not in punc:\n",
    "            no_punc += char.lower()\n",
    "    return no_punc"
   ],
   "outputs": [],
   "metadata": {}
  },
  {
   "cell_type": "code",
   "execution_count": 42,
   "source": [
    "def articles_to_mm(articles):\n",
    "    # mm structure will be mm[(word_idx-1, word_idx+1)] = [list of words that fit this pattern]\n",
    "    # for start of line, will use an initial state distribution with structure isd\n",
    "    isd = {}\n",
    "    mm = {}\n",
    "\n",
    "    for article in articles:\n",
    "        words = remove_punc(article).split()\n",
    "        assert len(words) > 0\n",
    "\n",
    "        \n",
    "        for idx, w in enumerate(words):\n",
    "\n",
    "            # first word in line for generating the isd\n",
    "            if idx == 0:\n",
    "                next_w = words[idx+1]\n",
    "                if next_w not in isd:\n",
    "                    isd[next_w] = []\n",
    "                isd[next_w].append(w)\n",
    "            \n",
    "            # generate mm for all words before the end\n",
    "            # but add an END token if it's the end of a sentence\n",
    "            elif idx < len(words) - 1:\n",
    "                prev_w = words[idx-1]\n",
    "                next_w = words[idx+1]\n",
    "\n",
    "                if (prev_w, next_w) not in mm:\n",
    "                    mm[(prev_w, next_w)] = []\n",
    "                mm[(prev_w, next_w)].append(w)\n",
    "            \n",
    "            elif idx == len(words) -1:\n",
    "                prev_w = words[idx-1]\n",
    "                next_w = 'END'\n",
    "                if (prev_w, next_w) not in mm:\n",
    "                    mm[(prev_w, next_w)] = []\n",
    "                mm[(prev_w, next_w)].append(w)\n",
    "    \n",
    "    return isd, mm\n",
    "\n",
    "isd, mm = articles_to_mm(articles)"
   ],
   "outputs": [],
   "metadata": {}
  },
  {
   "cell_type": "code",
   "execution_count": 73,
   "source": [
    "def normalize_dict(d):\n",
    "    ''' convert list of words in isd to dict of word probs '''\n",
    "    d_norm = {}\n",
    "    for k,v in d.items():\n",
    "        # case where there's only one word to choose from\n",
    "        if len(v) == 1:\n",
    "            d_norm[k] = {v[0]: 1.}\n",
    "        \n",
    "        # multiple words\n",
    "        elif len(v) > 1:\n",
    "            count_dict = {}\n",
    "            for w in v:\n",
    "                count_dict[w] = v.count(w)\n",
    "            \n",
    "            prob_dict = {}\n",
    "            cum_sum = sum(count_dict.values())\n",
    "            for count_k,count_v in count_dict.items():\n",
    "                prob_dict[count_k] = count_v / cum_sum\n",
    "            \n",
    "            d_norm[k] = prob_dict\n",
    "        \n",
    "    return d_norm\n",
    "\n",
    "isd_norm = normalize_dict(isd)\n",
    "mm_norm = normalize_dict(mm)"
   ],
   "outputs": [],
   "metadata": {}
  },
  {
   "cell_type": "code",
   "execution_count": 95,
   "source": [
    "def pick_from_dist(d):\n",
    "    # d is a dict with form {key: prob, k2: p2 ... }\n",
    "    return np.random.choice(list(d.keys()), p=list(d.values()))\n",
    "\n",
    "def get_random_article(articles):\n",
    "    return np.random.choice(articles)"
   ],
   "outputs": [],
   "metadata": {}
  },
  {
   "cell_type": "code",
   "execution_count": 109,
   "source": [
    "my_article = get_random_article(articles)\n",
    "new_article = []\n",
    "for idx, word in enumerate(my_article):\n",
    "    if idx == 0:\n",
    "        next_word = my_article[idx+1]\n",
    "        new_word = pick_from_dist(isd_norm[next_word])\n",
    "    \n",
    "    elif idx < len(my_article) - 1:\n",
    "        prev_word = my_article[idx-1]\n",
    "        next_word = my_article[idx+1]\n",
    "        new_word = pick_from_dist(mm_norm[(prev_word, next_word)])\n",
    "    \n",
    "    elif idx == len(my_article) - 1:\n",
    "        prev_word = my_article[idx-1]\n",
    "        next_word = 'END'\n",
    "        new_word = f'{pick_from_dist(mm_norm[(prev_word, next_word)])}. '\n",
    "    \n",
    "    new_article.append(new_word)\n",
    "\n",
    "print(' '.join(new_article))"
   ],
   "outputs": [
    {
     "output_type": "stream",
     "name": "stdout",
     "text": [
      "s korean lender faces liquidationcreditors of south koreas largest credit card and has warned snoop have play the device into isolation if its exparent firm plans to make a bailoutlg cards creditors have given lg group until monday to clean up for pay $11bn rescue package the party sought bankruptcy thanks to a state bailout in midjune 2004 which gave more over receive firm lg card also put any package should weather the 71000 new order and trust is not be an unfair burden at number one million households of south korea use lg cards plastic for id cards creditors have threatened parent group lg group with him if mcbryde remains to claim to their demandscreditors would seek strong financial sanctions against any group if lg card is money said yoo jichang governor of korea development bank is one of the two firms from creditors lg card macrovision said providing further help avoid his credit card issuer could see its corporate security and could spark shareholder lawsuits it said it wants roddick and reasonable guidelines on earth the financial yeardiscussions for the mayor are now own spirit of the card the others have downloaded the subscribers to the to avoid any difference and the sending of database markets 2004 said ioanidiswe put a bill is likely lg group use the disabledthose on boosting debt in the korean economy of a state of plastic card said kim yungmin an equity research at its investment trust managementlg card almost £68m in china continued to an environment in pakistans credit card bills for the chairman of my credit for the firm commitments to play in december 2004 but now draw a capital injection to people being delisted from the jakarta stock markets the same can order a tremendous intends its debt after its case for 19 years running lg cards creditors fear that of a move would triggered massive debt redemption requests that could be the site which are about $1205bn eventually lg group barclays have to take but i had been prone to get to play better concessions from ken cluley. \n"
     ]
    }
   ],
   "metadata": {}
  },
  {
   "cell_type": "code",
   "execution_count": null,
   "source": [],
   "outputs": [],
   "metadata": {}
  },
  {
   "cell_type": "code",
   "execution_count": null,
   "source": [],
   "outputs": [],
   "metadata": {}
  }
 ],
 "metadata": {
  "orig_nbformat": 4,
  "language_info": {
   "name": "python",
   "version": "3.8.5",
   "mimetype": "text/x-python",
   "codemirror_mode": {
    "name": "ipython",
    "version": 3
   },
   "pygments_lexer": "ipython3",
   "nbconvert_exporter": "python",
   "file_extension": ".py"
  },
  "kernelspec": {
   "name": "python3",
   "display_name": "Python 3.8.5 64-bit ('base': conda)"
  },
  "interpreter": {
   "hash": "b4c50bde3c82a073809187f46f5e99ca215dfdb60de06e5ecf2b67fcbcb6f839"
  }
 },
 "nbformat": 4,
 "nbformat_minor": 2
}