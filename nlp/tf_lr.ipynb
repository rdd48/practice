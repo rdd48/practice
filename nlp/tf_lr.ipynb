{
 "cells": [
  {
   "cell_type": "code",
   "execution_count": 10,
   "metadata": {},
   "outputs": [],
   "source": [
    "import numpy as np\n",
    "import pandas as pd\n",
    "from sklearn.feature_extraction.text import TfidfVectorizer                       \n",
    "from sklearn.model_selection import train_test_split\n",
    "from scipy.sparse import hstack\n",
    "\n",
    "import tensorflow as tf\n",
    "from tensorflow.keras.layers import Dense, Input\n",
    "from tensorflow.keras.models import Model\n",
    "from tensorflow.keras.losses import BinaryCrossentropy\n",
    "from tensorflow.keras.optimizers import Adam"
   ]
  },
  {
   "cell_type": "code",
   "execution_count": 11,
   "metadata": {},
   "outputs": [
    {
     "data": {
      "text/html": [
       "<div>\n",
       "<style scoped>\n",
       "    .dataframe tbody tr th:only-of-type {\n",
       "        vertical-align: middle;\n",
       "    }\n",
       "\n",
       "    .dataframe tbody tr th {\n",
       "        vertical-align: top;\n",
       "    }\n",
       "\n",
       "    .dataframe thead th {\n",
       "        text-align: right;\n",
       "    }\n",
       "</style>\n",
       "<table border=\"1\" class=\"dataframe\">\n",
       "  <thead>\n",
       "    <tr style=\"text-align: right;\">\n",
       "      <th></th>\n",
       "      <th>int_class</th>\n",
       "      <th>airline_sentiment</th>\n",
       "    </tr>\n",
       "  </thead>\n",
       "  <tbody>\n",
       "    <tr>\n",
       "      <th>0</th>\n",
       "      <td>1</td>\n",
       "      <td>neutral</td>\n",
       "    </tr>\n",
       "    <tr>\n",
       "      <th>1</th>\n",
       "      <td>2</td>\n",
       "      <td>positive</td>\n",
       "    </tr>\n",
       "    <tr>\n",
       "      <th>2</th>\n",
       "      <td>1</td>\n",
       "      <td>neutral</td>\n",
       "    </tr>\n",
       "    <tr>\n",
       "      <th>3</th>\n",
       "      <td>0</td>\n",
       "      <td>negative</td>\n",
       "    </tr>\n",
       "    <tr>\n",
       "      <th>4</th>\n",
       "      <td>0</td>\n",
       "      <td>negative</td>\n",
       "    </tr>\n",
       "  </tbody>\n",
       "</table>\n",
       "</div>"
      ],
      "text/plain": [
       "   int_class airline_sentiment\n",
       "0          1           neutral\n",
       "1          2          positive\n",
       "2          1           neutral\n",
       "3          0          negative\n",
       "4          0          negative"
      ]
     },
     "execution_count": 11,
     "metadata": {},
     "output_type": "execute_result"
    }
   ],
   "source": [
    "df_input = pd.read_csv('input/AirlineTweets.csv')\n",
    "df_input.head()\n",
    "\n",
    "sent2int = {\n",
    "    'positive': 2,\n",
    "    'neutral': 1,\n",
    "    'negative': 0\n",
    "}\n",
    "\n",
    "df_input['int_class'] = df_input['airline_sentiment'].apply(lambda row: sent2int[row])\n",
    "df_input[['int_class', 'airline_sentiment']].head()"
   ]
  },
  {
   "cell_type": "code",
   "execution_count": 12,
   "metadata": {},
   "outputs": [],
   "source": [
    "X_train, X_test, y_train, y_test = train_test_split(df_input['text'], df_input['int_class'], test_size=0.2)\n",
    "tfidf = TfidfVectorizer(max_features=2000)\n",
    "tf_X_train = tfidf.fit_transform(X_train).toarray()\n",
    "tf_X_test = tfidf.transform(X_test).toarray()"
   ]
  },
  {
   "cell_type": "code",
   "execution_count": 13,
   "metadata": {},
   "outputs": [],
   "source": [
    "# from tensorflow.keras.layers import Dense, Input\n",
    "# from tensorflow.keras.models import Model\n",
    "# from tensorflow.keras.losses import BinaryCrossentropy\n",
    "# from tensorflow.keras.optimizers import Adam"
   ]
  },
  {
   "cell_type": "markdown",
   "metadata": {},
   "source": []
  },
  {
   "cell_type": "code",
   "execution_count": 14,
   "metadata": {},
   "outputs": [
    {
     "name": "stdout",
     "output_type": "stream",
     "text": [
      "Model: \"model_1\"\n",
      "_________________________________________________________________\n",
      " Layer (type)                Output Shape              Param #   \n",
      "=================================================================\n",
      " input_2 (InputLayer)        [(None, 2000)]            0         \n",
      "                                                                 \n",
      " dense_1 (Dense)             (None, 1)                 2001      \n",
      "                                                                 \n",
      "=================================================================\n",
      "Total params: 2,001\n",
      "Trainable params: 2,001\n",
      "Non-trainable params: 0\n",
      "_________________________________________________________________\n"
     ]
    }
   ],
   "source": [
    "D = tf_X_train.shape[1]\n",
    "i = Input(shape=(D,))\n",
    "x = Dense(1)(i)\n",
    "\n",
    "model = Model(i, x)\n",
    "model.summary()"
   ]
  },
  {
   "cell_type": "code",
   "execution_count": 15,
   "metadata": {},
   "outputs": [],
   "source": [
    "model.compile(\n",
    "    loss=BinaryCrossentropy(from_logits=True),\n",
    "    optimizer=Adam(learning_rate=0.01),\n",
    "    metrics=['accuracy']\n",
    ")"
   ]
  },
  {
   "cell_type": "code",
   "execution_count": 16,
   "metadata": {},
   "outputs": [
    {
     "name": "stdout",
     "output_type": "stream",
     "text": [
      "Epoch 1/40\n",
      "92/92 [==============================] - 2s 12ms/step - loss: 0.5665 - accuracy: 0.6499 - val_loss: 0.4674 - val_accuracy: 0.6783\n",
      "Epoch 2/40\n",
      "92/92 [==============================] - 1s 7ms/step - loss: 0.3569 - accuracy: 0.6951 - val_loss: 0.3230 - val_accuracy: 0.6977\n",
      "Epoch 3/40\n",
      "92/92 [==============================] - 1s 8ms/step - loss: 0.2123 - accuracy: 0.6933 - val_loss: 0.2179 - val_accuracy: 0.6892\n",
      "Epoch 4/40\n",
      "92/92 [==============================] - 1s 8ms/step - loss: 0.0981 - accuracy: 0.6924 - val_loss: 0.1313 - val_accuracy: 0.6800\n",
      "Epoch 5/40\n",
      "92/92 [==============================] - 1s 8ms/step - loss: 4.4843e-04 - accuracy: 0.6883 - val_loss: 0.0574 - val_accuracy: 0.6745\n",
      "Epoch 6/40\n",
      "92/92 [==============================] - 1s 8ms/step - loss: -0.0871 - accuracy: 0.6835 - val_loss: -0.0084 - val_accuracy: 0.6691\n",
      "Epoch 7/40\n",
      "92/92 [==============================] - 0s 5ms/step - loss: -0.1683 - accuracy: 0.6789 - val_loss: -0.0710 - val_accuracy: 0.6691\n",
      "Epoch 8/40\n",
      "92/92 [==============================] - 0s 5ms/step - loss: -0.2448 - accuracy: 0.6786 - val_loss: -0.1284 - val_accuracy: 0.6551\n",
      "Epoch 9/40\n",
      "92/92 [==============================] - 1s 8ms/step - loss: -0.3179 - accuracy: 0.6737 - val_loss: -0.1839 - val_accuracy: 0.6523\n",
      "Epoch 10/40\n",
      "92/92 [==============================] - 1s 7ms/step - loss: -0.3885 - accuracy: 0.6734 - val_loss: -0.2364 - val_accuracy: 0.6503\n",
      "Epoch 11/40\n",
      "92/92 [==============================] - 0s 5ms/step - loss: -0.4573 - accuracy: 0.6673 - val_loss: -0.2892 - val_accuracy: 0.6523\n",
      "Epoch 12/40\n",
      "92/92 [==============================] - 1s 5ms/step - loss: -0.5242 - accuracy: 0.6705 - val_loss: -0.3382 - val_accuracy: 0.6479\n",
      "Epoch 13/40\n",
      "92/92 [==============================] - 1s 7ms/step - loss: -0.5904 - accuracy: 0.6680 - val_loss: -0.3859 - val_accuracy: 0.6438\n",
      "Epoch 14/40\n",
      "92/92 [==============================] - 1s 6ms/step - loss: -0.6548 - accuracy: 0.6636 - val_loss: -0.4339 - val_accuracy: 0.6417\n",
      "Epoch 15/40\n",
      "92/92 [==============================] - 1s 7ms/step - loss: -0.7190 - accuracy: 0.6640 - val_loss: -0.4809 - val_accuracy: 0.6417\n",
      "Epoch 16/40\n",
      "92/92 [==============================] - 1s 8ms/step - loss: -0.7820 - accuracy: 0.6635 - val_loss: -0.5254 - val_accuracy: 0.6359\n",
      "Epoch 17/40\n",
      "92/92 [==============================] - 1s 6ms/step - loss: -0.8445 - accuracy: 0.6614 - val_loss: -0.5710 - val_accuracy: 0.6366\n",
      "Epoch 18/40\n",
      "92/92 [==============================] - 1s 7ms/step - loss: -0.9061 - accuracy: 0.6592 - val_loss: -0.6167 - val_accuracy: 0.6363\n",
      "Epoch 19/40\n",
      "92/92 [==============================] - 1s 7ms/step - loss: -0.9680 - accuracy: 0.6592 - val_loss: -0.6608 - val_accuracy: 0.6339\n",
      "Epoch 20/40\n",
      "92/92 [==============================] - 1s 6ms/step - loss: -1.0286 - accuracy: 0.6587 - val_loss: -0.7042 - val_accuracy: 0.6318\n",
      "Epoch 21/40\n",
      "92/92 [==============================] - 1s 8ms/step - loss: -1.0887 - accuracy: 0.6575 - val_loss: -0.7478 - val_accuracy: 0.6315\n",
      "Epoch 22/40\n",
      "92/92 [==============================] - 1s 8ms/step - loss: -1.1486 - accuracy: 0.6569 - val_loss: -0.7904 - val_accuracy: 0.6305\n",
      "Epoch 23/40\n",
      "92/92 [==============================] - 1s 9ms/step - loss: -1.2085 - accuracy: 0.6558 - val_loss: -0.8336 - val_accuracy: 0.6288\n",
      "Epoch 24/40\n",
      "92/92 [==============================] - 1s 8ms/step - loss: -1.2679 - accuracy: 0.6565 - val_loss: -0.8757 - val_accuracy: 0.6288\n",
      "Epoch 25/40\n",
      "92/92 [==============================] - 1s 7ms/step - loss: -1.3271 - accuracy: 0.6557 - val_loss: -0.9182 - val_accuracy: 0.6281\n",
      "Epoch 26/40\n",
      "92/92 [==============================] - 1s 7ms/step - loss: -1.3862 - accuracy: 0.6549 - val_loss: -0.9593 - val_accuracy: 0.6257\n",
      "Epoch 27/40\n",
      "92/92 [==============================] - 1s 8ms/step - loss: -1.4451 - accuracy: 0.6542 - val_loss: -1.0014 - val_accuracy: 0.6247\n",
      "Epoch 28/40\n",
      "92/92 [==============================] - 1s 6ms/step - loss: -1.5032 - accuracy: 0.6519 - val_loss: -1.0430 - val_accuracy: 0.6240\n",
      "Epoch 29/40\n",
      "92/92 [==============================] - 1s 7ms/step - loss: -1.5616 - accuracy: 0.6524 - val_loss: -1.0842 - val_accuracy: 0.6250\n",
      "Epoch 30/40\n",
      "92/92 [==============================] - 1s 6ms/step - loss: -1.6194 - accuracy: 0.6527 - val_loss: -1.1243 - val_accuracy: 0.6233\n",
      "Epoch 31/40\n",
      "92/92 [==============================] - 1s 8ms/step - loss: -1.6774 - accuracy: 0.6513 - val_loss: -1.1656 - val_accuracy: 0.6236\n",
      "Epoch 32/40\n",
      "92/92 [==============================] - 1s 6ms/step - loss: -1.7348 - accuracy: 0.6510 - val_loss: -1.2072 - val_accuracy: 0.6233\n",
      "Epoch 33/40\n",
      "92/92 [==============================] - 1s 7ms/step - loss: -1.7921 - accuracy: 0.6501 - val_loss: -1.2479 - val_accuracy: 0.6226\n",
      "Epoch 34/40\n",
      "92/92 [==============================] - 1s 7ms/step - loss: -1.8495 - accuracy: 0.6510 - val_loss: -1.2882 - val_accuracy: 0.6202\n",
      "Epoch 35/40\n",
      "92/92 [==============================] - 1s 8ms/step - loss: -1.9068 - accuracy: 0.6489 - val_loss: -1.3289 - val_accuracy: 0.6206\n",
      "Epoch 36/40\n",
      "92/92 [==============================] - 1s 7ms/step - loss: -1.9637 - accuracy: 0.6511 - val_loss: -1.3673 - val_accuracy: 0.6195\n",
      "Epoch 37/40\n",
      "92/92 [==============================] - 0s 5ms/step - loss: -2.0205 - accuracy: 0.6486 - val_loss: -1.4078 - val_accuracy: 0.6189\n",
      "Epoch 38/40\n",
      "92/92 [==============================] - 1s 6ms/step - loss: -2.0773 - accuracy: 0.6490 - val_loss: -1.4485 - val_accuracy: 0.6195\n",
      "Epoch 39/40\n",
      "92/92 [==============================] - 0s 5ms/step - loss: -2.1341 - accuracy: 0.6488 - val_loss: -1.4882 - val_accuracy: 0.6192\n",
      "Epoch 40/40\n",
      "92/92 [==============================] - 0s 4ms/step - loss: -2.1907 - accuracy: 0.6492 - val_loss: -1.5277 - val_accuracy: 0.6185\n"
     ]
    }
   ],
   "source": [
    "r = model.fit(\n",
    "    tf_X_train, y_train,\n",
    "    validation_data=(tf_X_test, y_test),\n",
    "    epochs=40,\n",
    "    batch_size=128\n",
    ")"
   ]
  },
  {
   "cell_type": "code",
   "execution_count": 42,
   "metadata": {},
   "outputs": [
    {
     "name": "stderr",
     "output_type": "stream",
     "text": [
      "/var/folders/1m/277y_gln0711zs7jdjfr_rr80000gn/T/ipykernel_69881/3099549544.py:10: SettingWithCopyWarning: \n",
      "A value is trying to be set on a copy of a slice from a DataFrame.\n",
      "Try using .loc[row_indexer,col_indexer] = value instead\n",
      "\n",
      "See the caveats in the documentation: https://pandas.pydata.org/pandas-docs/stable/user_guide/indexing.html#returning-a-view-versus-a-copy\n",
      "  df_copy['int_class'] = df_copy['airline_sentiment'].apply(lambda row: posneg2int[row])\n"
     ]
    },
    {
     "data": {
      "text/html": [
       "<div>\n",
       "<style scoped>\n",
       "    .dataframe tbody tr th:only-of-type {\n",
       "        vertical-align: middle;\n",
       "    }\n",
       "\n",
       "    .dataframe tbody tr th {\n",
       "        vertical-align: top;\n",
       "    }\n",
       "\n",
       "    .dataframe thead th {\n",
       "        text-align: right;\n",
       "    }\n",
       "</style>\n",
       "<table border=\"1\" class=\"dataframe\">\n",
       "  <thead>\n",
       "    <tr style=\"text-align: right;\">\n",
       "      <th></th>\n",
       "      <th>int_class</th>\n",
       "      <th>text</th>\n",
       "    </tr>\n",
       "  </thead>\n",
       "  <tbody>\n",
       "    <tr>\n",
       "      <th>1</th>\n",
       "      <td>1</td>\n",
       "      <td>@VirginAmerica plus you've added commercials t...</td>\n",
       "    </tr>\n",
       "    <tr>\n",
       "      <th>3</th>\n",
       "      <td>0</td>\n",
       "      <td>@VirginAmerica it's really aggressive to blast...</td>\n",
       "    </tr>\n",
       "    <tr>\n",
       "      <th>4</th>\n",
       "      <td>0</td>\n",
       "      <td>@VirginAmerica and it's a really big bad thing...</td>\n",
       "    </tr>\n",
       "    <tr>\n",
       "      <th>5</th>\n",
       "      <td>0</td>\n",
       "      <td>@VirginAmerica seriously would pay $30 a fligh...</td>\n",
       "    </tr>\n",
       "    <tr>\n",
       "      <th>6</th>\n",
       "      <td>1</td>\n",
       "      <td>@VirginAmerica yes, nearly every time I fly VX...</td>\n",
       "    </tr>\n",
       "  </tbody>\n",
       "</table>\n",
       "</div>"
      ],
      "text/plain": [
       "   int_class                                               text\n",
       "1          1  @VirginAmerica plus you've added commercials t...\n",
       "3          0  @VirginAmerica it's really aggressive to blast...\n",
       "4          0  @VirginAmerica and it's a really big bad thing...\n",
       "5          0  @VirginAmerica seriously would pay $30 a fligh...\n",
       "6          1  @VirginAmerica yes, nearly every time I fly VX..."
      ]
     },
     "execution_count": 42,
     "metadata": {},
     "output_type": "execute_result"
    }
   ],
   "source": [
    "# pretty bad accuracy, but unlike udemy, i did positive, neutral, and negative comments.\n",
    "# do i get anything better with just positive and negative comments?\n",
    "\n",
    "posneg2int = {\n",
    "    'positive': 1,\n",
    "    'negative': 0,\n",
    "}\n",
    "\n",
    "df_copy = df_input[df_input['airline_sentiment'] != 'neutral']\n",
    "df_copy['int_class'] = df_copy['airline_sentiment'].apply(lambda row: posneg2int[row])\n",
    "\n",
    "df_posneg = df_copy[['int_class', 'text']].copy()\n",
    "df_posneg.head()"
   ]
  },
  {
   "cell_type": "code",
   "execution_count": 43,
   "metadata": {},
   "outputs": [
    {
     "name": "stdout",
     "output_type": "stream",
     "text": [
      "Model: \"model_5\"\n",
      "_________________________________________________________________\n",
      " Layer (type)                Output Shape              Param #   \n",
      "=================================================================\n",
      " input_6 (InputLayer)        [(None, 2000)]            0         \n",
      "                                                                 \n",
      " dense_5 (Dense)             (None, 1)                 2001      \n",
      "                                                                 \n",
      "=================================================================\n",
      "Total params: 2,001\n",
      "Trainable params: 2,001\n",
      "Non-trainable params: 0\n",
      "_________________________________________________________________\n"
     ]
    }
   ],
   "source": [
    "X_train, X_test, y_train, y_test = train_test_split(df_posneg['text'], df_posneg['int_class'])\n",
    "tfidf = TfidfVectorizer(max_features=2000)\n",
    "\n",
    "tf_X_train = tfidf.fit_transform(X_train)\n",
    "tf_X_train = tf_X_train.toarray()\n",
    "\n",
    "tf_X_test = tfidf.transform(X_test)\n",
    "tf_X_test = tf_X_test.toarray()\n",
    "\n",
    "D = tf_X_train.shape[1]\n",
    "i = Input(shape=(D,))\n",
    "x = Dense(1)(i)\n",
    "\n",
    "model = Model(i, x)\n",
    "model.summary()\n"
   ]
  },
  {
   "cell_type": "code",
   "execution_count": null,
   "metadata": {},
   "outputs": [],
   "source": []
  },
  {
   "cell_type": "code",
   "execution_count": 45,
   "metadata": {},
   "outputs": [
    {
     "name": "stdout",
     "output_type": "stream",
     "text": [
      "Epoch 1/10\n",
      "68/68 [==============================] - 1s 9ms/step - loss: 0.4997 - accuracy: 0.7957 - val_loss: 0.4106 - val_accuracy: 0.7938\n",
      "Epoch 2/10\n",
      "68/68 [==============================] - 0s 6ms/step - loss: 0.3714 - accuracy: 0.8006 - val_loss: 0.3532 - val_accuracy: 0.8067\n",
      "Epoch 3/10\n",
      "68/68 [==============================] - 0s 5ms/step - loss: 0.3185 - accuracy: 0.8208 - val_loss: 0.3156 - val_accuracy: 0.8319\n",
      "Epoch 4/10\n",
      "68/68 [==============================] - 0s 5ms/step - loss: 0.2816 - accuracy: 0.8470 - val_loss: 0.2895 - val_accuracy: 0.8514\n",
      "Epoch 5/10\n",
      "68/68 [==============================] - 0s 4ms/step - loss: 0.2547 - accuracy: 0.8679 - val_loss: 0.2703 - val_accuracy: 0.8676\n",
      "Epoch 6/10\n",
      "68/68 [==============================] - 0s 5ms/step - loss: 0.2342 - accuracy: 0.8802 - val_loss: 0.2558 - val_accuracy: 0.8798\n",
      "Epoch 7/10\n",
      "68/68 [==============================] - 0s 5ms/step - loss: 0.2180 - accuracy: 0.8925 - val_loss: 0.2446 - val_accuracy: 0.8912\n",
      "Epoch 8/10\n",
      "68/68 [==============================] - 0s 5ms/step - loss: 0.2049 - accuracy: 0.9035 - val_loss: 0.2358 - val_accuracy: 0.8954\n",
      "Epoch 9/10\n",
      "68/68 [==============================] - 0s 6ms/step - loss: 0.1939 - accuracy: 0.9090 - val_loss: 0.2287 - val_accuracy: 0.8992\n",
      "Epoch 10/10\n",
      "68/68 [==============================] - 0s 5ms/step - loss: 0.1847 - accuracy: 0.9157 - val_loss: 0.2229 - val_accuracy: 0.9019\n"
     ]
    }
   ],
   "source": [
    "model.compile(\n",
    "    loss=BinaryCrossentropy(from_logits=True),\n",
    "    optimizer=Adam(learning_rate=0.01),\n",
    "    metrics=['accuracy']\n",
    ")\n",
    "\n",
    "r = model.fit(\n",
    "    tf_X_train, y_train,\n",
    "    validation_data=(tf_X_test, y_test),\n",
    "    epochs=40,\n",
    "    batch_size=128\n",
    ")"
   ]
  },
  {
   "cell_type": "code",
   "execution_count": 46,
   "metadata": {},
   "outputs": [
    {
     "data": {
      "text/plain": [
       "<matplotlib.legend.Legend at 0x14b29abf0>"
      ]
     },
     "execution_count": 46,
     "metadata": {},
     "output_type": "execute_result"
    },
    {
     "data": {
      "image/png": "[encoded data removed]",
      "text/plain": [
       "<Figure size 432x288 with 1 Axes>"
      ]
     },
     "metadata": {
      "needs_background": "light"
     },
     "output_type": "display_data"
    }
   ],
   "source": [
    "import matplotlib.pyplot as plt\n",
    "\n",
    "plt.plot(r.history['loss'], label='train loss')\n",
    "plt.plot(r.history['val_loss'], label='val loss')\n",
    "plt.legend()"
   ]
  },
  {
   "cell_type": "code",
   "execution_count": null,
   "metadata": {},
   "outputs": [],
   "source": [
    "# answer: data can only be labeled with 0s or 1s it seems \n",
    "# for this type of tf model"
   ]
  }
 ],
 "metadata": {
  "kernelspec": {
   "display_name": "Python 3.10.4 ('nlp')",
   "language": "python",
   "name": "python3"
  },
  "language_info": {
   "codemirror_mode": {
    "name": "ipython",
    "version": 3
   },
   "file_extension": ".py",
   "mimetype": "text/x-python",
   "name": "python",
   "nbconvert_exporter": "python",
   "pygments_lexer": "ipython3",
   "version": "3.10.4"
  },
  "orig_nbformat": 4,
  "vscode": {
   "interpreter": {
    "hash": "d4923b0cf400c235129cc738c3508a6cd52776416c1524016eb17621a3e6dbb3"
   }
  }
 },
 "nbformat": 4,
 "nbformat_minor": 2
}
